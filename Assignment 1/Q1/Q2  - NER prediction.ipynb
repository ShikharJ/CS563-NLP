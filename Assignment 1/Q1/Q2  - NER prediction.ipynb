{
 "cells": [
  {
   "cell_type": "code",
   "execution_count": 106,
   "metadata": {},
   "outputs": [],
   "source": [
    "# Import the required libraries.\n",
    "import re\n",
    "import math\n",
    "import random\n",
    "import collections\n",
    "import operator\n",
    "import numpy as np\n",
    "from sklearn.model_selection import KFold\n",
    "from sklearn.metrics import precision_recall_fscore_support, f1_score, accuracy_score\n",
    "from sklearn.metrics import confusion_matrix\n",
    "from collections import defaultdict, Counter\n",
    "\n",
    "from keras.utils import to_categorical\n",
    "from keras.layers import *\n",
    "from keras.models import Model\n",
    "from keras import Model, Sequential\n",
    "from sklearn.model_selection import StratifiedKFold\n",
    "from keras.callbacks import *\n",
    "from sklearn.metrics import classification_report\n",
    "# from sklearn.utils import class_weight.compute_class_weight\n",
    "\n",
    "import math\n",
    "\n",
    "random.seed(11)\n",
    "np.random.seed(11)"
   ]
  },
  {
   "cell_type": "code",
   "execution_count": 2,
   "metadata": {},
   "outputs": [
    {
     "name": "stdout",
     "output_type": "stream",
     "text": [
      "NER-Dataset-10Types-Train.txt\r\n",
      "NER-Dataset--TestSet.txt\r\n",
      "NER-Dataset-Train.txt\r\n",
      "Q1 - NER Prediction 10 Types (buggy).ipynb\r\n",
      "Q1 - NER prediction-10 Types (no test output)-Copy1.ipynb\r\n",
      "Q1 - NER prediction-10 Types (no test output).ipynb\r\n",
      "Q1 - NER prediction-10 Types (with test output).ipynb\r\n",
      "Q1 - NER prediction.ipynb\r\n",
      "Q1 - NER prediction (with test output).ipynb\r\n",
      "Q2.ipynb\r\n"
     ]
    }
   ],
   "source": [
    "!ls"
   ]
  },
  {
   "cell_type": "code",
   "execution_count": 3,
   "metadata": {},
   "outputs": [],
   "source": [
    "with open('NER-Dataset-Train.txt', 'r') as f:\n",
    "    ner_dataset = f.readlines()"
   ]
  },
  {
   "cell_type": "code",
   "execution_count": 4,
   "metadata": {},
   "outputs": [],
   "source": [
    "sentences = []\n",
    "words = []\n",
    "tags = []\n",
    "for line in ner_dataset:\n",
    "    line = line.strip()\n",
    "    if line == '':\n",
    "        sentences.append((words, tags))\n",
    "        words = []\n",
    "        tags = []\n",
    "    else:\n",
    "        word, tag = line.split('\\t')\n",
    "        words.append(word)\n",
    "        tags.append(tag)\n",
    "\n",
    "if len(words) > 0:\n",
    "    sentences.append((words, tags))\n",
    "    words = []\n",
    "    tags= []"
   ]
  },
  {
   "cell_type": "code",
   "execution_count": 5,
   "metadata": {},
   "outputs": [
    {
     "data": {
      "text/plain": [
       "900"
      ]
     },
     "execution_count": 5,
     "metadata": {},
     "output_type": "execute_result"
    }
   ],
   "source": [
    "len(sentences)"
   ]
  },
  {
   "cell_type": "code",
   "execution_count": 6,
   "metadata": {},
   "outputs": [],
   "source": [
    "vocab_counts = Counter(sum([a[0] for a in sentences], [])).most_common()"
   ]
  },
  {
   "cell_type": "code",
   "execution_count": 7,
   "metadata": {},
   "outputs": [
    {
     "data": {
      "text/plain": [
       "1456"
      ]
     },
     "execution_count": 7,
     "metadata": {},
     "output_type": "execute_result"
    }
   ],
   "source": [
    "words_to_keep = set([word for word, count in vocab_counts if count > 1])\n",
    "len(words_to_keep)"
   ]
  },
  {
   "cell_type": "code",
   "execution_count": 8,
   "metadata": {},
   "outputs": [],
   "source": [
    "# parsed_sentences = [([w if w in words_to_keep else 'UNK' for w in words], tags) for words, tags in sentences]"
   ]
  },
  {
   "cell_type": "code",
   "execution_count": 9,
   "metadata": {},
   "outputs": [],
   "source": [
    "with open('NER-Dataset--TestSet.txt', 'r') as f:\n",
    "    test_dataset = f.readlines()\n",
    "\n",
    "test_sentences = []\n",
    "words = []\n",
    "for line in test_dataset:\n",
    "    line = line.strip()\n",
    "    if line == '':\n",
    "        test_sentences.append((words,))\n",
    "        words = []\n",
    "    else:\n",
    "        word = line\n",
    "        words.append(word)\n",
    "\n",
    "if len(words) > 0:\n",
    "    test_sentences.append((words,))\n",
    "    words = []\n"
   ]
  },
  {
   "cell_type": "code",
   "execution_count": 10,
   "metadata": {},
   "outputs": [
    {
     "data": {
      "text/plain": [
       "(900, 100)"
      ]
     },
     "execution_count": 10,
     "metadata": {},
     "output_type": "execute_result"
    }
   ],
   "source": [
    "len(sentences), len(test_sentences)"
   ]
  },
  {
   "cell_type": "code",
   "execution_count": 11,
   "metadata": {},
   "outputs": [],
   "source": [
    "word_features = ['twoDigitNum',\n",
    "                'fourDigitNum',\n",
    "                'containsDigitAndAlpha',\n",
    "                'containsDigitAndDash',\n",
    "                'containsDigitAndSlash',\n",
    "                'containsDigitAndComma',\n",
    "                'containsDigitAndPeriod',\n",
    "                'otherNum',\n",
    "                'allCaps',\n",
    "                'capPeriod',\n",
    "                'firstWord',\n",
    "                'initCap',\n",
    "                'lowerCase',\n",
    "                'other']"
   ]
  },
  {
   "cell_type": "code",
   "execution_count": 12,
   "metadata": {},
   "outputs": [],
   "source": [
    "def get_word_features(sentence):\n",
    "    features = []\n",
    "    ## Optimize and use an Enum!\n",
    "    firstword = True\n",
    "    for word in sentence:\n",
    "        if word.isnumeric() and len(word) == 2:\n",
    "            features.append('twoDigitNum')\n",
    "        elif word.isnumeric() and len(word) == 4:\n",
    "            features.append('fourDigitNum')\n",
    "        elif word.isalnum() and not word.isalpha() and not word.isnumeric():\n",
    "            features.append('containsDigitAndAlpha')\n",
    "        elif word.replace('-', '').isnumeric():\n",
    "            features.append('containsDigitAndAlpha')\n",
    "        elif word.replace('/', '').isnumeric():\n",
    "            features.append('containsDigitAndSlash')\n",
    "        elif word.replace('.', '').replace(',', '').isnumeric() and ',' in word:\n",
    "            features.append('containsDigitAndComma')\n",
    "        elif word.replace('.', '').isnumeric():\n",
    "            features.append('containsDigitAndPeriod')\n",
    "        elif word.isnumeric():\n",
    "            features.append('otherNum')\n",
    "        elif word.isupper():\n",
    "            features.append('allCaps')\n",
    "        elif len(word) == 2 and word[0].isupper() and word[1] == '.':\n",
    "            features.append('capPeriod')\n",
    "        elif firstword:\n",
    "            features.append('firstWord')\n",
    "        elif word[0].isupper():\n",
    "            features.append('initCap')\n",
    "        elif word.islower():\n",
    "            features.append('lowerCase')\n",
    "        else:\n",
    "            features.append('other')\n",
    "        firstword = False\n",
    "\n",
    "    return features"
   ]
  },
  {
   "cell_type": "code",
   "execution_count": 13,
   "metadata": {},
   "outputs": [],
   "source": [
    "max_len_found = max(len(s[0]) for s in sentences)"
   ]
  },
  {
   "cell_type": "code",
   "execution_count": 14,
   "metadata": {},
   "outputs": [],
   "source": [
    "max_len = max_len_found + ((50 - (max_len_found % 50)) % 50)"
   ]
  },
  {
   "cell_type": "code",
   "execution_count": 15,
   "metadata": {},
   "outputs": [],
   "source": [
    "eye_mat = list(np.eye(len(word_features)))\n",
    "wordfeat2float = {feat: eye_mat[i] for i, feat in enumerate(word_features)}"
   ]
  },
  {
   "cell_type": "code",
   "execution_count": 16,
   "metadata": {
    "scrolled": true
   },
   "outputs": [],
   "source": [
    "word2idx = {'UNK': 0, 'PAD': 1}\n",
    "word2idx.update({word: i + 2 for i, word in enumerate(sorted(words_to_keep))})"
   ]
  },
  {
   "cell_type": "code",
   "execution_count": 17,
   "metadata": {},
   "outputs": [],
   "source": [
    "def numberize_sentence(words, max_len=50):\n",
    "    features = get_word_features(words)\n",
    "    word_idx = [word2idx[w] if w in word2idx.keys() else word2idx['UNK'] for w in words]\n",
    "    feat_np = [wordfeat2float[f] for f in features]\n",
    "    word_padding = [word2idx['PAD'] for _ in range(max_len - len(word_idx))]\n",
    "    feat_padding = [np.ones((len(word_features),)) * 2 for _ in range(max_len - len(word_idx))]\n",
    "    word_idx = np.asarray(word_idx + word_padding)\n",
    "    feat_np = np.asarray(feat_np + feat_padding)\n",
    "    return word_idx, feat_np"
   ]
  },
  {
   "cell_type": "code",
   "execution_count": 18,
   "metadata": {
    "scrolled": true
   },
   "outputs": [],
   "source": [
    "labels = set.union(*(set(s[1]) for s in sentences))\n",
    "n_labels = len(labels)\n",
    "eye_mat = list(np.eye(len(labels)))\n",
    "labels2float = {feat: eye_mat[i] for i, feat in enumerate(labels)}\n",
    "\n",
    "def numberize_labels(gt_labels, max_len=50):\n",
    "    labels_np = [labels2float[l] for l in gt_labels]\n",
    "    labels_padding = [labels2float['O'] for _ in range(max_len - len(gt_labels))]\n",
    "    return np.asarray(labels_np + labels_padding)"
   ]
  },
  {
   "cell_type": "code",
   "execution_count": null,
   "metadata": {},
   "outputs": [],
   "source": []
  },
  {
   "cell_type": "code",
   "execution_count": null,
   "metadata": {},
   "outputs": [],
   "source": []
  },
  {
   "cell_type": "code",
   "execution_count": 19,
   "metadata": {},
   "outputs": [],
   "source": [
    "def create_model():\n",
    "    input_words = Input(shape=(max_len,))\n",
    "    input_feats = Input(shape=(max_len, len(word_features)))\n",
    "    masked_words = Masking(mask_value = 1)(input_words)\n",
    "    masked_feats = Masking(mask_value = 2)(input_feats)\n",
    "    emb = Embedding(input_dim=(len(word2idx)), output_dim=50, input_length=max_len)(masked_words)\n",
    "    drop_emb = Dropout(0.1)(emb)\n",
    "    concat_out = Concatenate()([drop_emb, masked_feats])\n",
    "    rnn_out = Bidirectional(SimpleRNN(units=100, return_sequences=True, recurrent_dropout=0.1))(concat_out)\n",
    "    dense_out = TimeDistributed(Dense(n_labels, activation=\"softmax\"))(rnn_out)\n",
    "    model = Model(inputs=[input_words, input_feats], outputs=dense_out)\n",
    "    model.summary()\n",
    "    return model"
   ]
  },
  {
   "cell_type": "code",
   "execution_count": 20,
   "metadata": {},
   "outputs": [],
   "source": [
    "parsed_sentences = [(numberize_sentence(s[0]), numberize_labels(s[1])) for s in sentences]"
   ]
  },
  {
   "cell_type": "code",
   "execution_count": 21,
   "metadata": {},
   "outputs": [],
   "source": [
    "parsed_test_sentences = [numberize_sentence(s[0]) for s in test_sentences]"
   ]
  },
  {
   "cell_type": "code",
   "execution_count": 46,
   "metadata": {
    "scrolled": true
   },
   "outputs": [
    {
     "data": {
      "text/plain": [
       "Counter({'O': 16508, 'B': 582, 'I': 390})"
      ]
     },
     "execution_count": 46,
     "metadata": {},
     "output_type": "execute_result"
    }
   ],
   "source": [
    "Counter(sum([s[1] for s in sentences], []))"
   ]
  },
  {
   "cell_type": "code",
   "execution_count": 51,
   "metadata": {},
   "outputs": [
    {
     "data": {
      "text/plain": [
       "Counter({0: 44028, 1: 582, 2: 390})"
      ]
     },
     "execution_count": 51,
     "metadata": {},
     "output_type": "execute_result"
    }
   ],
   "source": [
    "Counter(sum([np.argmax(s[1], axis=-1).tolist() for s in parsed_sentences], []))"
   ]
  },
  {
   "cell_type": "code",
   "execution_count": 61,
   "metadata": {},
   "outputs": [
    {
     "data": {
      "text/plain": [
       "((50,), (50, 3))"
      ]
     },
     "execution_count": 61,
     "metadata": {},
     "output_type": "execute_result"
    }
   ],
   "source": [
    "train_data[7][0][0].shape, train_data[7][1].shape"
   ]
  },
  {
   "cell_type": "code",
   "execution_count": 65,
   "metadata": {},
   "outputs": [
    {
     "data": {
      "text/plain": [
       "((50,), (50, 3))"
      ]
     },
     "execution_count": 65,
     "metadata": {},
     "output_type": "execute_result"
    }
   ],
   "source": [
    "X_train[0][7].shape, Y_train[7].shape"
   ]
  },
  {
   "cell_type": "code",
   "execution_count": null,
   "metadata": {},
   "outputs": [],
   "source": []
  },
  {
   "cell_type": "code",
   "execution_count": 74,
   "metadata": {
    "scrolled": true
   },
   "outputs": [
    {
     "name": "stdout",
     "output_type": "stream",
     "text": [
      "Model: \"model_16\"\n",
      "__________________________________________________________________________________________________\n",
      "Layer (type)                    Output Shape         Param #     Connected to                     \n",
      "==================================================================================================\n",
      "input_31 (InputLayer)           (None, 50)           0                                            \n",
      "__________________________________________________________________________________________________\n",
      "masking_31 (Masking)            (None, 50)           0           input_31[0][0]                   \n",
      "__________________________________________________________________________________________________\n",
      "embedding_16 (Embedding)        (None, 50, 50)       72900       masking_31[0][0]                 \n",
      "__________________________________________________________________________________________________\n",
      "input_32 (InputLayer)           (None, 50, 14)       0                                            \n",
      "__________________________________________________________________________________________________\n",
      "dropout_16 (Dropout)            (None, 50, 50)       0           embedding_16[0][0]               \n",
      "__________________________________________________________________________________________________\n",
      "masking_32 (Masking)            (None, 50, 14)       0           input_32[0][0]                   \n",
      "__________________________________________________________________________________________________\n",
      "concatenate_16 (Concatenate)    (None, 50, 64)       0           dropout_16[0][0]                 \n",
      "                                                                 masking_32[0][0]                 \n",
      "__________________________________________________________________________________________________\n",
      "bidirectional_16 (Bidirectional (None, 50, 200)      33000       concatenate_16[0][0]             \n",
      "__________________________________________________________________________________________________\n",
      "time_distributed_16 (TimeDistri (None, 50, 3)        603         bidirectional_16[0][0]           \n",
      "==================================================================================================\n",
      "Total params: 106,503\n",
      "Trainable params: 106,503\n",
      "Non-trainable params: 0\n",
      "__________________________________________________________________________________________________\n"
     ]
    },
    {
     "name": "stderr",
     "output_type": "stream",
     "text": [
      "/home/stud/btech/cse/2016/mukuntha.cs16/anaconda3/envs/py36/lib/python3.6/site-packages/tensorflow_core/python/framework/indexed_slices.py:424: UserWarning: Converting sparse IndexedSlices to a dense Tensor of unknown shape. This may consume a large amount of memory.\n",
      "  \"Converting sparse IndexedSlices to a dense Tensor of unknown shape. \"\n"
     ]
    },
    {
     "name": "stdout",
     "output_type": "stream",
     "text": [
      "Train on 576 samples, validate on 144 samples\n",
      "Epoch 1/3\n",
      "576/576 [==============================] - 29s 50ms/step - loss: 0.0945 - accuracy: 0.9348 - val_loss: 0.0651 - val_accuracy: 0.9510\n",
      "Epoch 2/3\n",
      "576/576 [==============================] - 32s 56ms/step - loss: 0.0621 - accuracy: 0.9488 - val_loss: 0.0608 - val_accuracy: 0.9517\n",
      "Epoch 3/3\n",
      "576/576 [==============================] - 25s 43ms/step - loss: 0.0510 - accuracy: 0.9568 - val_loss: 0.0605 - val_accuracy: 0.9503\n",
      "[still updating...] Accuracy: 0.9495798319327731, Precision: 0.6827391340480347, Recall: 0.5613509653986885, FScore: 0.6059678416300517\n",
      "Model: \"model_17\"\n",
      "__________________________________________________________________________________________________\n",
      "Layer (type)                    Output Shape         Param #     Connected to                     \n",
      "==================================================================================================\n",
      "input_33 (InputLayer)           (None, 50)           0                                            \n",
      "__________________________________________________________________________________________________\n",
      "masking_33 (Masking)            (None, 50)           0           input_33[0][0]                   \n",
      "__________________________________________________________________________________________________\n",
      "embedding_17 (Embedding)        (None, 50, 50)       72900       masking_33[0][0]                 \n",
      "__________________________________________________________________________________________________\n",
      "input_34 (InputLayer)           (None, 50, 14)       0                                            \n",
      "__________________________________________________________________________________________________\n",
      "dropout_17 (Dropout)            (None, 50, 50)       0           embedding_17[0][0]               \n",
      "__________________________________________________________________________________________________\n",
      "masking_34 (Masking)            (None, 50, 14)       0           input_34[0][0]                   \n",
      "__________________________________________________________________________________________________\n",
      "concatenate_17 (Concatenate)    (None, 50, 64)       0           dropout_17[0][0]                 \n",
      "                                                                 masking_34[0][0]                 \n",
      "__________________________________________________________________________________________________\n",
      "bidirectional_17 (Bidirectional (None, 50, 200)      33000       concatenate_17[0][0]             \n",
      "__________________________________________________________________________________________________\n",
      "time_distributed_17 (TimeDistri (None, 50, 3)        603         bidirectional_17[0][0]           \n",
      "==================================================================================================\n",
      "Total params: 106,503\n",
      "Trainable params: 106,503\n",
      "Non-trainable params: 0\n",
      "__________________________________________________________________________________________________\n"
     ]
    },
    {
     "name": "stderr",
     "output_type": "stream",
     "text": [
      "/home/stud/btech/cse/2016/mukuntha.cs16/anaconda3/envs/py36/lib/python3.6/site-packages/tensorflow_core/python/framework/indexed_slices.py:424: UserWarning: Converting sparse IndexedSlices to a dense Tensor of unknown shape. This may consume a large amount of memory.\n",
      "  \"Converting sparse IndexedSlices to a dense Tensor of unknown shape. \"\n"
     ]
    },
    {
     "name": "stdout",
     "output_type": "stream",
     "text": [
      "Train on 576 samples, validate on 144 samples\n",
      "Epoch 1/3\n",
      "576/576 [==============================] - 33s 58ms/step - loss: 0.0883 - accuracy: 0.9412 - val_loss: 0.0682 - val_accuracy: 0.9499\n",
      "Epoch 2/3\n",
      "576/576 [==============================] - 26s 45ms/step - loss: 0.0609 - accuracy: 0.9488 - val_loss: 0.0610 - val_accuracy: 0.9464\n",
      "Epoch 3/3\n",
      "576/576 [==============================] - 31s 53ms/step - loss: 0.0517 - accuracy: 0.9564 - val_loss: 0.0563 - val_accuracy: 0.9524\n",
      "[still updating...] Accuracy: 0.9481324876673713, Precision: 0.7442810193706251, Recall: 0.536210706090852, FScore: 0.6018719264523495\n",
      "Model: \"model_18\"\n",
      "__________________________________________________________________________________________________\n",
      "Layer (type)                    Output Shape         Param #     Connected to                     \n",
      "==================================================================================================\n",
      "input_35 (InputLayer)           (None, 50)           0                                            \n",
      "__________________________________________________________________________________________________\n",
      "masking_35 (Masking)            (None, 50)           0           input_35[0][0]                   \n",
      "__________________________________________________________________________________________________\n",
      "embedding_18 (Embedding)        (None, 50, 50)       72900       masking_35[0][0]                 \n",
      "__________________________________________________________________________________________________\n",
      "input_36 (InputLayer)           (None, 50, 14)       0                                            \n",
      "__________________________________________________________________________________________________\n",
      "dropout_18 (Dropout)            (None, 50, 50)       0           embedding_18[0][0]               \n",
      "__________________________________________________________________________________________________\n",
      "masking_36 (Masking)            (None, 50, 14)       0           input_36[0][0]                   \n",
      "__________________________________________________________________________________________________\n",
      "concatenate_18 (Concatenate)    (None, 50, 64)       0           dropout_18[0][0]                 \n",
      "                                                                 masking_36[0][0]                 \n",
      "__________________________________________________________________________________________________\n",
      "bidirectional_18 (Bidirectional (None, 50, 200)      33000       concatenate_18[0][0]             \n",
      "__________________________________________________________________________________________________\n",
      "time_distributed_18 (TimeDistri (None, 50, 3)        603         bidirectional_18[0][0]           \n",
      "==================================================================================================\n",
      "Total params: 106,503\n",
      "Trainable params: 106,503\n",
      "Non-trainable params: 0\n",
      "__________________________________________________________________________________________________\n"
     ]
    },
    {
     "name": "stderr",
     "output_type": "stream",
     "text": [
      "/home/stud/btech/cse/2016/mukuntha.cs16/anaconda3/envs/py36/lib/python3.6/site-packages/tensorflow_core/python/framework/indexed_slices.py:424: UserWarning: Converting sparse IndexedSlices to a dense Tensor of unknown shape. This may consume a large amount of memory.\n",
      "  \"Converting sparse IndexedSlices to a dense Tensor of unknown shape. \"\n"
     ]
    },
    {
     "name": "stdout",
     "output_type": "stream",
     "text": [
      "Train on 576 samples, validate on 144 samples\n",
      "Epoch 1/3\n",
      "576/576 [==============================] - 30s 52ms/step - loss: 0.0898 - accuracy: 0.9405 - val_loss: 0.0681 - val_accuracy: 0.9492\n",
      "Epoch 2/3\n",
      "576/576 [==============================] - 31s 53ms/step - loss: 0.0622 - accuracy: 0.9474 - val_loss: 0.0631 - val_accuracy: 0.9460\n",
      "Epoch 3/3\n",
      "576/576 [==============================] - 27s 47ms/step - loss: 0.0503 - accuracy: 0.9557 - val_loss: 0.0631 - val_accuracy: 0.9446\n",
      "[still updating...] Accuracy: 0.9488787533257317, Precision: 0.7586130797750258, Recall: 0.5312732211038077, FScore: 0.6004491588837595\n",
      "Model: \"model_19\"\n",
      "__________________________________________________________________________________________________\n",
      "Layer (type)                    Output Shape         Param #     Connected to                     \n",
      "==================================================================================================\n",
      "input_37 (InputLayer)           (None, 50)           0                                            \n",
      "__________________________________________________________________________________________________\n",
      "masking_37 (Masking)            (None, 50)           0           input_37[0][0]                   \n",
      "__________________________________________________________________________________________________\n",
      "embedding_19 (Embedding)        (None, 50, 50)       72900       masking_37[0][0]                 \n",
      "__________________________________________________________________________________________________\n",
      "input_38 (InputLayer)           (None, 50, 14)       0                                            \n",
      "__________________________________________________________________________________________________\n",
      "dropout_19 (Dropout)            (None, 50, 50)       0           embedding_19[0][0]               \n",
      "__________________________________________________________________________________________________\n",
      "masking_38 (Masking)            (None, 50, 14)       0           input_38[0][0]                   \n",
      "__________________________________________________________________________________________________\n",
      "concatenate_19 (Concatenate)    (None, 50, 64)       0           dropout_19[0][0]                 \n",
      "                                                                 masking_38[0][0]                 \n",
      "__________________________________________________________________________________________________\n",
      "bidirectional_19 (Bidirectional (None, 50, 200)      33000       concatenate_19[0][0]             \n",
      "__________________________________________________________________________________________________\n",
      "time_distributed_19 (TimeDistri (None, 50, 3)        603         bidirectional_19[0][0]           \n",
      "==================================================================================================\n",
      "Total params: 106,503\n",
      "Trainable params: 106,503\n",
      "Non-trainable params: 0\n",
      "__________________________________________________________________________________________________\n"
     ]
    },
    {
     "name": "stderr",
     "output_type": "stream",
     "text": [
      "/home/stud/btech/cse/2016/mukuntha.cs16/anaconda3/envs/py36/lib/python3.6/site-packages/tensorflow_core/python/framework/indexed_slices.py:424: UserWarning: Converting sparse IndexedSlices to a dense Tensor of unknown shape. This may consume a large amount of memory.\n",
      "  \"Converting sparse IndexedSlices to a dense Tensor of unknown shape. \"\n"
     ]
    },
    {
     "name": "stdout",
     "output_type": "stream",
     "text": [
      "Train on 576 samples, validate on 144 samples\n",
      "Epoch 1/3\n",
      "576/576 [==============================] - 36s 62ms/step - loss: 0.0920 - accuracy: 0.9326 - val_loss: 0.0672 - val_accuracy: 0.9435\n",
      "Epoch 2/3\n",
      "576/576 [==============================] - 25s 44ms/step - loss: 0.0654 - accuracy: 0.9440 - val_loss: 0.0620 - val_accuracy: 0.9503\n",
      "Epoch 3/3\n",
      "576/576 [==============================] - 33s 58ms/step - loss: 0.0556 - accuracy: 0.9514 - val_loss: 0.0597 - val_accuracy: 0.9531\n",
      "[still updating...] Accuracy: 0.9525708588520154, Precision: 0.7627007394702495, Recall: 0.5433828854596211, FScore: 0.6124723545493426\n",
      "Model: \"model_20\"\n",
      "__________________________________________________________________________________________________\n",
      "Layer (type)                    Output Shape         Param #     Connected to                     \n",
      "==================================================================================================\n",
      "input_39 (InputLayer)           (None, 50)           0                                            \n",
      "__________________________________________________________________________________________________\n",
      "masking_39 (Masking)            (None, 50)           0           input_39[0][0]                   \n",
      "__________________________________________________________________________________________________\n",
      "embedding_20 (Embedding)        (None, 50, 50)       72900       masking_39[0][0]                 \n",
      "__________________________________________________________________________________________________\n",
      "input_40 (InputLayer)           (None, 50, 14)       0                                            \n",
      "__________________________________________________________________________________________________\n",
      "dropout_20 (Dropout)            (None, 50, 50)       0           embedding_20[0][0]               \n",
      "__________________________________________________________________________________________________\n",
      "masking_40 (Masking)            (None, 50, 14)       0           input_40[0][0]                   \n",
      "__________________________________________________________________________________________________\n",
      "concatenate_20 (Concatenate)    (None, 50, 64)       0           dropout_20[0][0]                 \n",
      "                                                                 masking_40[0][0]                 \n",
      "__________________________________________________________________________________________________\n",
      "bidirectional_20 (Bidirectional (None, 50, 200)      33000       concatenate_20[0][0]             \n",
      "__________________________________________________________________________________________________\n",
      "time_distributed_20 (TimeDistri (None, 50, 3)        603         bidirectional_20[0][0]           \n",
      "==================================================================================================\n",
      "Total params: 106,503\n",
      "Trainable params: 106,503\n",
      "Non-trainable params: 0\n",
      "__________________________________________________________________________________________________\n"
     ]
    },
    {
     "name": "stderr",
     "output_type": "stream",
     "text": [
      "/home/stud/btech/cse/2016/mukuntha.cs16/anaconda3/envs/py36/lib/python3.6/site-packages/tensorflow_core/python/framework/indexed_slices.py:424: UserWarning: Converting sparse IndexedSlices to a dense Tensor of unknown shape. This may consume a large amount of memory.\n",
      "  \"Converting sparse IndexedSlices to a dense Tensor of unknown shape. \"\n"
     ]
    },
    {
     "name": "stdout",
     "output_type": "stream",
     "text": [
      "Train on 576 samples, validate on 144 samples\n",
      "Epoch 1/3\n",
      "576/576 [==============================] - 32s 55ms/step - loss: 0.0953 - accuracy: 0.9319 - val_loss: 0.0583 - val_accuracy: 0.9579\n",
      "Epoch 2/3\n",
      "576/576 [==============================] - 28s 48ms/step - loss: 0.0679 - accuracy: 0.9436 - val_loss: 0.0446 - val_accuracy: 0.9593\n",
      "Epoch 3/3\n",
      "576/576 [==============================] - 30s 51ms/step - loss: 0.0544 - accuracy: 0.9526 - val_loss: 0.0400 - val_accuracy: 0.9624\n",
      "[still updating...] Accuracy: 0.9517734553775744, Precision: 0.7371925586274307, Recall: 0.5313648049441254, FScore: 0.59650134529246\n",
      "Accuracy: 0.9517734553775744, Precision: 0.7371925586274307, Recall: 0.5313648049441254, FScore: 0.59650134529246\n"
     ]
    }
   ],
   "source": [
    "# Build the test and training sets of sentences.\n",
    "kf = KFold(n_splits = 5, shuffle = False)\n",
    "parsed_sentences = np.asarray(parsed_sentences)\n",
    "scores = []\n",
    "scores1 = []\n",
    "y_pred_idx = []\n",
    "y_pred_idx1 = []\n",
    "y_test_idx = []\n",
    "y_test_idx1 = []\n",
    "\n",
    "preds = []\n",
    "\n",
    "for train_index, test_index in kf.split(parsed_sentences):\n",
    "    train_data = parsed_sentences[train_index]\n",
    "    test_data = parsed_sentences[test_index]\n",
    "    X_train = [np.asarray([a[0][0] for a in train_data]), np.asarray([a[0][1] for a in train_data])]\n",
    "    Y_train = np.asarray([a[1] for a in train_data])\n",
    "    X_test = [np.asarray([a[0][0] for a in test_data]), np.asarray([a[0][1] for a in test_data])]\n",
    "    Y_test = np.asarray([a[1] for a in test_data])\n",
    "    model = create_model()\n",
    "    model.compile(optimizer='rmsprop',\n",
    "              loss='categorical_crossentropy',\n",
    "              metrics=['accuracy'])\n",
    "\n",
    "    model.fit(X_train, Y_train, epochs=3, validation_split=0.2, batch_size=4)\n",
    "\n",
    "    y_pred_padded = np.argmax(model.predict(X_test), axis=-1)\n",
    "    y_true_padded = np.argmax(Y_test, axis=-1)\n",
    "    \n",
    "    for i in range(X_test[0].shape[0]):\n",
    "        for j in range(X_test[0].shape[1]):\n",
    "            if X_test[0][i][j] == word2idx['PAD']:\n",
    "                continue\n",
    "            else:\n",
    "                pred = y_pred_padded[i][j]\n",
    "                true = y_true_padded[i][j]\n",
    "                y_pred_idx.append(pred)\n",
    "                y_test_idx.append(true)\n",
    "                scores.append(pred == true)\n",
    "\n",
    "    prec_, rec_, fscore_, _ = precision_recall_fscore_support(y_test_idx, y_pred_idx, average = 'macro')\n",
    "    print('[still updating...] Accuracy: {}, Precision: {}, Recall: {}, FScore: {}'.format(np.asarray(scores).mean(), prec_, rec_, fscore_))\n",
    "    \n",
    "prec, rec, fscore, _ = precision_recall_fscore_support(y_test_idx, y_pred_idx, average = 'macro')\n",
    "print('Accuracy: {}, Precision: {}, Recall: {}, FScore: {}'.format(np.asarray(scores).mean(), prec, rec, fscore))"
   ]
  },
  {
   "cell_type": "code",
   "execution_count": null,
   "metadata": {},
   "outputs": [],
   "source": []
  },
  {
   "cell_type": "code",
   "execution_count": 77,
   "metadata": {},
   "outputs": [],
   "source": [
    "X_test_data = [np.asarray([a[0] for a in parsed_test_sentences]), np.asarray([a[1] for a in parsed_test_sentences])]"
   ]
  },
  {
   "cell_type": "code",
   "execution_count": 81,
   "metadata": {},
   "outputs": [],
   "source": [
    "predictions_full = model.predict(X_test_data)"
   ]
  },
  {
   "cell_type": "code",
   "execution_count": 82,
   "metadata": {},
   "outputs": [
    {
     "data": {
      "text/plain": [
       "(100, 50, 3)"
      ]
     },
     "execution_count": 82,
     "metadata": {},
     "output_type": "execute_result"
    }
   ],
   "source": [
    "predictions_full.shape"
   ]
  },
  {
   "cell_type": "code",
   "execution_count": 99,
   "metadata": {},
   "outputs": [],
   "source": [
    "predictions_list = []\n",
    "for i, s in enumerate(test_sentences):\n",
    "    output = []\n",
    "    for j, w in enumerate(s[0]):\n",
    "        output.append(np.argmax(predictions_full[i][j]))\n",
    "    predictions_list.append(output)"
   ]
  },
  {
   "cell_type": "code",
   "execution_count": 103,
   "metadata": {},
   "outputs": [
    {
     "data": {
      "text/plain": [
       "100"
      ]
     },
     "execution_count": 103,
     "metadata": {},
     "output_type": "execute_result"
    }
   ],
   "source": [
    "len(predictions_list)"
   ]
  },
  {
   "cell_type": "code",
   "execution_count": 105,
   "metadata": {},
   "outputs": [
    {
     "name": "stdout",
     "output_type": "stream",
     "text": [
      "[[0, 0, 0, 0, 0, 0, 0, 0, 0, 0, 0, 0], [0, 0, 0, 0, 0, 0, 0, 0, 0, 0, 0, 0, 0, 1, 0, 0, 0, 0, 0, 0, 0, 0, 0, 0, 0, 0, 0, 0, 0, 1, 0, 0, 0], [0, 0, 0, 0, 0, 0, 0, 0, 0, 0, 0], [0, 0, 0, 0, 0, 0, 0, 0, 0, 0, 0, 0, 0, 0, 0, 0, 0, 0, 0, 0, 0, 0, 0, 0, 0, 0, 0], [0, 0, 0, 0, 0, 0], [0, 0, 0, 0, 0, 0, 0, 0, 0, 0, 0, 0, 0, 0, 0, 0, 0], [0, 0, 0, 0, 0, 0], [0, 0, 0, 0, 0, 0, 0, 0, 0, 0, 0, 0, 0, 0, 0, 0, 0, 0, 0, 0, 0, 0, 0, 0, 0], [0, 0, 0, 0, 0, 0, 0, 0, 0, 0, 0, 0, 0, 0, 0, 0, 0, 0, 0, 0], [0, 0, 0, 0, 0, 0, 0, 0, 0, 0, 0, 0, 0, 0, 0, 0], [0, 0, 0, 0, 0, 0, 0, 0, 0, 0, 0, 0, 0, 0, 0, 0, 0, 0, 0, 0, 0, 0, 0, 0, 0, 0, 0], [0, 0, 0, 0, 0, 0, 0, 0, 0, 0, 0, 0, 0, 0, 0, 0, 0, 0, 0, 0, 0, 0, 0, 0, 0, 0, 0, 0, 0, 0, 0, 0, 0, 0, 0, 0], [0, 0, 0, 0, 0, 0, 2, 0, 0, 0, 0, 0, 0, 0, 0, 0, 0, 0, 0, 0, 0, 0], [0, 0, 0, 0, 0, 0], [0, 0, 0, 0, 0, 0, 0, 0, 0, 0, 0, 0, 0, 0, 0, 0, 0, 0, 0, 0, 0, 0, 0, 0, 0, 0, 0], [0, 0, 0, 0, 0, 1, 0, 0, 0, 0, 0, 0, 0, 0, 0, 0, 0, 0, 0, 0], [0, 0, 0, 0, 0, 0, 0, 0, 0, 0], [0, 0, 0, 0, 0, 0, 0, 0, 0, 0, 0, 0, 0, 0, 0, 0, 0, 0, 0, 0, 0, 0, 0], [0, 0, 0, 0, 0, 0, 0, 0, 0, 0], [1, 0, 0, 1, 0, 0, 0, 1, 0, 0, 0, 0], [0, 0, 0, 0, 0, 0, 0, 0, 0, 0, 0, 0, 0, 0, 0, 0, 0, 0, 0, 0, 0, 0], [0, 0, 0, 0, 0, 0, 0, 0, 0, 0, 0, 0, 0], [0, 0, 0, 0, 0, 0, 0, 0, 0, 0, 0, 0, 0, 0, 0, 0, 0, 0, 0, 0, 0, 0, 0, 0, 0, 0, 0, 0, 0], [0, 0, 0, 0, 0, 0, 0, 0, 0, 0, 0, 0, 0, 0, 1, 0, 0, 0, 0, 0, 0, 0, 0, 0, 0, 0, 0, 0, 0, 0, 0, 0], [0, 0, 0, 0, 0, 0, 0, 0, 0, 0], [0, 0, 0, 0, 0, 0, 0, 0, 0, 0, 0, 0, 0, 0, 0], [0, 0, 0, 0, 0, 0, 0, 0, 0, 0, 0, 0, 0, 0, 0, 0, 0, 0, 0, 0], [0, 0, 0, 0, 0, 0, 0], [0, 0, 0, 0, 0, 0, 0, 0, 0, 0, 0, 0, 0, 0, 0, 0], [0, 0, 0, 0, 0, 1, 2, 0, 1, 2, 0, 0], [0, 0, 0, 0, 0, 0, 0, 0, 0, 0, 0, 0, 0, 0, 0, 0, 0, 0, 0, 0, 0, 0, 0, 0, 0, 0, 0, 0, 0, 0, 0, 0, 0, 0, 0, 0], [0, 0, 0, 0, 0, 0, 0, 0, 0, 0, 0, 0, 0, 0, 0, 0, 0], [0, 0, 0, 0, 0, 0, 1, 2, 0, 0, 0, 0, 0, 0, 0, 0, 0, 0, 0, 0, 0, 0, 0, 0, 0, 0], [0, 0, 0, 0, 0, 0, 0, 0, 0, 0, 0, 0, 0, 0, 0, 0, 0, 0, 0, 0, 0, 0, 0, 0, 0, 0, 0, 0, 0, 0, 0, 0], [0, 0, 0, 0, 0, 0], [0, 0, 0, 0, 0, 0, 1, 2, 0, 0, 0, 0, 0, 0, 0, 0, 0, 0, 0, 0, 0, 0, 0], [0, 0, 0, 0, 0, 0, 0, 0, 0, 0, 0, 0, 0, 0], [0, 0, 0, 0, 0, 2, 0, 0, 0, 0, 0, 0, 0, 0, 2, 0, 0, 0, 0, 0, 0], [0, 0, 0, 0, 0, 0, 0], [0, 0, 0, 0, 0, 0, 0, 0, 0, 0, 0, 0, 0, 0, 0, 0, 0, 0, 0, 0, 1, 0, 0, 0, 0, 0, 0, 0, 0, 0, 0], [0, 0, 0, 0, 0, 0, 0, 0, 0, 0, 0, 0, 0, 0, 0, 0, 0, 0, 0, 0, 0, 0, 0, 0, 0], [0, 0, 0, 0, 0, 0, 0, 0, 0, 0, 0, 0, 1, 0, 0, 0], [0, 0, 0, 0, 0, 0, 0, 0, 0, 0, 0, 0, 0, 0, 0, 0, 0, 0, 0, 0], [0, 0, 0, 0, 0, 0, 0, 0, 0, 0, 0, 0, 0, 0], [0, 0, 0, 0, 0, 0, 0, 0, 0, 0, 0, 0, 0, 0, 0, 0, 0, 0, 0, 0, 0, 0], [0, 0, 0, 0, 0, 0, 0, 0, 0, 0, 0, 0, 0, 0, 0, 0, 0], [0, 0, 0, 0, 0, 0, 0, 0, 0, 0, 0, 0, 0, 0, 0, 0, 0, 0, 0, 0, 0, 0, 0, 0, 0, 0, 0, 0, 0], [0, 0, 0, 0, 0, 0, 0, 0, 0, 0, 0, 0, 0, 0, 0, 0, 0], [0, 0, 0, 0, 0, 0, 0], [0, 0, 0, 1, 0, 0, 0, 0, 0, 0, 0, 0, 0, 0, 0, 0, 0, 0, 0, 0], [0, 0, 0, 0, 0, 0, 0, 0, 0, 0, 1, 0, 0, 0, 0, 0, 0, 0, 0, 0, 0, 0, 0, 0, 0, 0, 0], [0, 0, 0, 0, 0, 2, 0, 0, 0, 0, 0, 0, 0, 0, 0, 0, 0, 0, 0, 0], [0, 0, 0, 0, 0, 0, 0, 0, 0, 0, 0, 0, 0, 0, 0, 0, 0, 0, 0, 0, 0, 0, 0, 0, 0, 0], [0, 0, 0, 1, 2, 2, 0, 0, 0, 0, 0, 0, 0, 0, 0, 0], [0, 0, 0, 0, 0, 0, 0, 0, 0, 0, 0, 0, 0, 0, 0, 0, 0, 0, 0, 0, 0, 0, 0, 0, 0, 0, 0], [0, 0, 0, 0, 0, 0, 0, 0, 0, 0, 0, 0, 0], [0, 0, 0, 0, 0, 0, 0, 0, 0, 0, 0, 0, 0, 0, 0, 0, 0, 0, 0, 0, 0, 0, 0], [0, 0, 0, 0, 0, 0, 0, 0, 0, 0, 0, 0, 0, 0], [0, 0, 0, 0, 0, 0, 0, 0, 0, 0, 0, 0, 0], [0, 0, 0, 0, 0, 0, 0, 0, 0, 0, 0, 0, 0, 0, 0, 0, 0], [0, 0, 0, 0, 0, 0, 0, 0, 0, 0, 0, 0, 0, 0, 0, 0, 0], [0, 0, 1, 0, 0, 0, 0, 0, 0, 0, 0, 0, 0, 0, 0, 0, 0, 0, 0, 0, 0, 0, 0, 0, 0, 0, 0, 0, 0, 0], [0, 0, 1, 0, 0, 0, 0, 0, 0, 0, 0, 0, 0, 0, 0, 0, 0, 0, 0, 0, 0, 0, 0, 0, 0, 0, 0, 0, 0], [0, 0, 0, 0, 0, 0, 0, 0, 0], [0, 0, 0, 0, 0, 0, 0, 0, 0, 0, 0, 0, 0, 0], [0, 0, 0, 0, 1, 0, 0, 0, 0, 0, 0, 0, 0, 0, 0, 0, 0, 0, 0, 0, 0, 0, 0, 0, 0, 0, 0, 0, 0, 0, 0, 0], [0, 0, 0, 0, 0, 0, 0, 0, 0, 0, 0], [0, 0, 0, 0], [0, 0, 0, 0, 0, 0, 0, 0, 0, 0, 0, 0, 0, 0, 0, 0, 0, 0, 0, 0, 0, 0, 0], [0, 0, 0, 0, 0, 0, 0, 0, 0, 0, 0, 0, 0, 0, 0, 0, 0, 0, 0, 0, 0, 0, 0], [0, 0, 0, 0, 0, 0, 0, 0, 0, 1, 2, 0, 0, 1, 0, 0, 1, 0, 0, 0, 1, 2, 0, 0, 0], [0, 0, 0, 0, 0, 0, 0, 0, 0, 0, 0, 0, 0, 0, 0, 0, 0, 0, 0, 0, 0, 0, 0, 0, 0], [0, 0, 0, 0, 0, 0, 0, 0, 0, 0, 0, 0, 0, 1, 2, 0], [0, 0, 0, 0, 0, 0, 0, 0, 0, 0, 0, 0, 0, 0, 0, 0, 0], [0, 0, 0, 0, 0, 0, 0, 0, 0, 0, 0, 0, 0, 0, 0, 0, 0, 0, 0, 0, 0, 0, 0, 0, 0], [0, 0, 0, 0, 0, 0, 0], [0, 0, 0, 0], [0, 0, 0, 0, 0, 0, 0, 0, 0, 0, 0, 0, 0, 0, 0, 0, 0, 0, 0, 0, 0, 0, 0, 0, 0, 0, 0, 0, 0, 0, 0, 0], [0, 0, 0, 0, 0, 0, 0], [0, 0, 0, 0, 0, 0, 0, 0, 0, 0, 0, 0], [0, 0, 0, 0, 0, 0, 0, 0, 0, 0, 0, 0, 0, 0, 0, 0, 0, 0], [0, 0, 0, 0, 0, 0, 0, 0, 0, 0, 0], [0, 0, 0, 0, 0, 0, 0, 0, 0, 0, 0, 0, 0, 0, 0, 0, 0, 0, 0, 0, 0, 0, 0, 0, 0, 0], [0, 0, 0, 0, 0, 0, 0, 0, 0, 0, 0, 0, 0, 0, 0, 0, 0, 0, 0, 0, 0, 0, 0, 0, 0, 0], [0, 0, 0, 0, 0, 0, 0, 0, 0, 0, 0, 0, 0, 0, 0, 0, 0, 0, 0, 0, 0, 0, 0, 0], [0, 0, 0, 0, 0, 0, 0, 0, 0, 0, 0, 0, 0, 0], [0, 0, 0, 0, 0, 0, 0, 0, 0, 0, 0, 0, 0, 0, 0, 0, 0, 0, 0, 0, 0, 0, 0, 0, 0, 0], [0, 0, 0, 0, 0, 0, 0, 0, 0, 0, 0, 0, 0, 0, 0, 0, 0, 0, 0, 0, 0, 0, 0, 0, 0, 0, 0, 0, 0, 0, 0, 0], [0, 0, 0, 0, 0, 0, 0, 0, 0, 0, 0, 0, 0, 0, 0, 0, 0, 0, 0, 0, 0, 0, 0, 0, 0], [0, 0, 0, 0, 0, 0, 0, 0, 0, 0, 0, 0, 0, 0, 0, 0, 0, 0, 0, 0, 0, 0, 0, 0, 0], [0, 0, 0, 0, 0, 0, 0, 0, 0, 0, 0], [1, 0, 0, 0, 0, 0, 0, 0, 0, 0, 0, 0, 0], [0, 0, 0, 0, 0, 0, 0, 0, 0, 0], [0, 0, 0, 0, 0, 0, 0, 0, 0, 0, 0], [0, 0, 0, 0, 0, 0, 0, 0, 0, 0, 0, 0], [0, 0, 0, 0, 0, 0, 0, 0, 0, 0, 0, 0, 0, 0, 0, 0, 0, 0, 0, 0, 1, 2, 0, 0], [0, 0, 0, 0, 0, 0, 0, 0, 0, 0, 0, 0, 0, 0, 0, 0, 0, 0, 0, 0, 0, 0, 0, 0, 0, 0, 0, 0, 0, 0, 0, 0], [0, 0, 0, 1, 2, 0, 0, 0, 0, 0, 0, 0, 0, 0, 0, 0, 0, 0, 0], [0, 0, 0, 0, 0, 0, 0, 0, 0, 0, 0, 0, 0, 0, 0, 0, 0, 0], [0, 0, 0, 0, 0, 0, 0, 0, 0, 0, 0, 0, 0, 0, 0, 0, 0, 0, 0, 0, 0, 0, 0, 1, 0]]\n"
     ]
    }
   ],
   "source": [
    "print(predictions_list)"
   ]
  },
  {
   "cell_type": "code",
   "execution_count": null,
   "metadata": {},
   "outputs": [],
   "source": []
  },
  {
   "cell_type": "code",
   "execution_count": null,
   "metadata": {},
   "outputs": [],
   "source": []
  }
 ],
 "metadata": {
  "kernelspec": {
   "display_name": "Python 3",
   "language": "python",
   "name": "python3"
  },
  "language_info": {
   "codemirror_mode": {
    "name": "ipython",
    "version": 3
   },
   "file_extension": ".py",
   "mimetype": "text/x-python",
   "name": "python",
   "nbconvert_exporter": "python",
   "pygments_lexer": "ipython3",
   "version": "3.6.9"
  }
 },
 "nbformat": 4,
 "nbformat_minor": 4
}
