{
 "cells": [
  {
   "cell_type": "code",
   "execution_count": 1,
   "metadata": {},
   "outputs": [
    {
     "name": "stderr",
     "output_type": "stream",
     "text": [
      "Using TensorFlow backend.\n"
     ]
    }
   ],
   "source": [
    "# Import the required libraries.\n",
    "import re\n",
    "import math\n",
    "import random\n",
    "import collections\n",
    "import operator\n",
    "import numpy as np\n",
    "\n",
    "from sklearn.model_selection import KFold\n",
    "from sklearn.metrics import precision_recall_fscore_support, f1_score, accuracy_score\n",
    "from sklearn.metrics import confusion_matrix\n",
    "from collections import defaultdict, Counter\n",
    "\n",
    "from keras.utils import to_categorical\n",
    "from keras.layers import *\n",
    "from keras.models import Model\n",
    "from keras import Model, Sequential\n",
    "from sklearn.model_selection import StratifiedKFold\n",
    "from keras.callbacks import *\n",
    "from sklearn.metrics import classification_report\n",
    "from sklearn.utils.class_weight import compute_class_weight\n",
    "\n",
    "random.seed(11)\n",
    "np.random.seed(11)"
   ]
  },
  {
   "cell_type": "code",
   "execution_count": 2,
   "metadata": {},
   "outputs": [
    {
     "name": "stdout",
     "output_type": "stream",
     "text": [
      "NER-Dataset-10Types-Train.txt\r\n",
      "NER-Dataset--TestSet.txt\r\n",
      "NER-Dataset-Train.txt\r\n",
      "NER-TestSet-10Types-RNN-Predictions.txt\r\n",
      "NER-TestSet-RNN-Predictions.txt\r\n",
      "Q2 - NER Prediction - 10 Types (RNN).ipynb\r\n",
      "Q2  - NER Prediction (RNN).ipynb\r\n"
     ]
    }
   ],
   "source": [
    "!ls"
   ]
  },
  {
   "cell_type": "code",
   "execution_count": 3,
   "metadata": {},
   "outputs": [],
   "source": [
    "with open('NER-Dataset-10Types-Train.txt', 'r') as f:\n",
    "    ner_dataset = f.readlines()"
   ]
  },
  {
   "cell_type": "code",
   "execution_count": 4,
   "metadata": {},
   "outputs": [],
   "source": [
    "sentences = []\n",
    "words = []\n",
    "tags = []\n",
    "for line in ner_dataset:\n",
    "    line = line.strip()\n",
    "    if line == '':\n",
    "        sentences.append((words, tags))\n",
    "        words = []\n",
    "        tags = []\n",
    "    else:\n",
    "        word, tag = line.split('\\t')\n",
    "        words.append(word)\n",
    "        tags.append(tag)\n",
    "\n",
    "if len(words) > 0:\n",
    "    sentences.append((words, tags))\n",
    "    words = []\n",
    "    tags= []"
   ]
  },
  {
   "cell_type": "code",
   "execution_count": 5,
   "metadata": {},
   "outputs": [],
   "source": [
    "vocab_counts = Counter(sum([a[0] for a in sentences], [])).most_common()\n",
    "words_to_keep = set([word for word, count in vocab_counts if count > 1])"
   ]
  },
  {
   "cell_type": "code",
   "execution_count": 6,
   "metadata": {},
   "outputs": [],
   "source": [
    "with open('NER-Dataset--TestSet.txt', 'r') as f:\n",
    "    test_dataset = f.readlines()\n",
    "\n",
    "test_sentences = []\n",
    "words = []\n",
    "for line in test_dataset:\n",
    "    line = line.strip()\n",
    "    if line == '':\n",
    "        test_sentences.append((words,))\n",
    "        words = []\n",
    "    else:\n",
    "        word = line\n",
    "        words.append(word)\n",
    "\n",
    "if len(words) > 0:\n",
    "    test_sentences.append((words,))\n",
    "    words = []"
   ]
  },
  {
   "cell_type": "code",
   "execution_count": 7,
   "metadata": {},
   "outputs": [],
   "source": [
    "word_features = ['twoDigitNum',\n",
    "                'fourDigitNum',\n",
    "                'containsDigitAndAlpha',\n",
    "                'containsDigitAndDash',\n",
    "                'containsDigitAndSlash',\n",
    "                'containsDigitAndComma',\n",
    "                'containsDigitAndPeriod',\n",
    "                'otherNum',\n",
    "                'allCaps',\n",
    "                'capPeriod',\n",
    "                'firstWord',\n",
    "                'initCap',\n",
    "                'lowerCase',\n",
    "                'other']"
   ]
  },
  {
   "cell_type": "code",
   "execution_count": 8,
   "metadata": {},
   "outputs": [],
   "source": [
    "def get_word_features(sentence):\n",
    "    features = []\n",
    "    ## Optimize and use an Enum!\n",
    "    firstword = True\n",
    "    for word in sentence:\n",
    "        if word.isnumeric() and len(word) == 2:\n",
    "            features.append('twoDigitNum')\n",
    "        elif word.isnumeric() and len(word) == 4:\n",
    "            features.append('fourDigitNum')\n",
    "        elif word.isalnum() and not word.isalpha() and not word.isnumeric():\n",
    "            features.append('containsDigitAndAlpha')\n",
    "        elif word.replace('-', '').isnumeric():\n",
    "            features.append('containsDigitAndAlpha')\n",
    "        elif word.replace('/', '').isnumeric():\n",
    "            features.append('containsDigitAndSlash')\n",
    "        elif word.replace('.', '').replace(',', '').isnumeric() and ',' in word:\n",
    "            features.append('containsDigitAndComma')\n",
    "        elif word.replace('.', '').isnumeric():\n",
    "            features.append('containsDigitAndPeriod')\n",
    "        elif word.isnumeric():\n",
    "            features.append('otherNum')\n",
    "        elif word.isupper():\n",
    "            features.append('allCaps')\n",
    "        elif len(word) == 2 and word[0].isupper() and word[1] == '.':\n",
    "            features.append('capPeriod')\n",
    "        elif firstword:\n",
    "            features.append('firstWord')\n",
    "        elif word[0].isupper():\n",
    "            features.append('initCap')\n",
    "        elif word.islower():\n",
    "            features.append('lowerCase')\n",
    "        else:\n",
    "            features.append('other')\n",
    "        firstword = False\n",
    "\n",
    "    return features"
   ]
  },
  {
   "cell_type": "code",
   "execution_count": 9,
   "metadata": {},
   "outputs": [],
   "source": [
    "max_len_found = max(len(s[0]) for s in sentences)\n",
    "max_len = max_len_found + ((50 - (max_len_found % 50)) % 50)"
   ]
  },
  {
   "cell_type": "code",
   "execution_count": 10,
   "metadata": {},
   "outputs": [],
   "source": [
    "eye_mat = list(np.eye(len(word_features)))\n",
    "wordfeat2float = {feat: eye_mat[i] for i, feat in enumerate(word_features)}"
   ]
  },
  {
   "cell_type": "code",
   "execution_count": 11,
   "metadata": {
    "scrolled": true
   },
   "outputs": [],
   "source": [
    "word2idx = {'UNK': 0, 'PAD': 1}\n",
    "word2idx.update({word: i + 2 for i, word in enumerate(sorted(words_to_keep))})"
   ]
  },
  {
   "cell_type": "code",
   "execution_count": 12,
   "metadata": {},
   "outputs": [],
   "source": [
    "def numberize_sentence(words, max_len=50):\n",
    "    features = get_word_features(words)\n",
    "    word_idx = [word2idx[w] if w in word2idx.keys() else word2idx['UNK'] for w in words]\n",
    "    feat_np = [wordfeat2float[f] for f in features]\n",
    "    word_padding = [word2idx['PAD'] for _ in range(max_len - len(word_idx))]\n",
    "    feat_padding = [np.ones((len(word_features),)) * 2 for _ in range(max_len - len(word_idx))]\n",
    "    word_idx = np.asarray(word_idx + word_padding)\n",
    "    feat_np = np.asarray(feat_np + feat_padding)\n",
    "    return word_idx, feat_np"
   ]
  },
  {
   "cell_type": "code",
   "execution_count": 13,
   "metadata": {
    "scrolled": true
   },
   "outputs": [],
   "source": [
    "labels = set.union(*(set(s[1]) for s in sentences))\n",
    "idx2labels = {i: s for i, s in enumerate(labels)}\n",
    "n_labels = len(labels)\n",
    "eye_mat = list(np.eye(len(labels)))\n",
    "labels2float = {feat: eye_mat[i] for i, feat in enumerate(labels)}\n",
    "\n",
    "def numberize_labels(gt_labels, max_len=50):\n",
    "    labels_np = [labels2float[l] for l in gt_labels]\n",
    "    labels_padding = [labels2float['O'] for _ in range(max_len - len(gt_labels))]\n",
    "    return np.asarray(labels_np + labels_padding)"
   ]
  },
  {
   "cell_type": "code",
   "execution_count": 14,
   "metadata": {},
   "outputs": [],
   "source": [
    "def create_model():\n",
    "    input_words = Input(shape = (max_len,))\n",
    "    input_feats = Input(shape = (max_len, len(word_features)))\n",
    "    masked_words = Masking(mask_value = 1)(input_words)\n",
    "    masked_feats = Masking(mask_value = 2)(input_feats)\n",
    "    emb = Embedding(input_dim = (len(word2idx)), output_dim = 50, input_length = max_len)(masked_words)\n",
    "    drop_emb = Dropout(0.1)(emb)\n",
    "    concat_out = Concatenate()([drop_emb, masked_feats])\n",
    "    rnn_out = Bidirectional(SimpleRNN(units = 100, return_sequences = True, recurrent_dropout = 0.1))(concat_out)\n",
    "    dense_out = TimeDistributed(Dense(n_labels, activation = \"softmax\"))(rnn_out)\n",
    "    model = Model(inputs = [input_words, input_feats], outputs = dense_out)\n",
    "    model.summary()\n",
    "    return model"
   ]
  },
  {
   "cell_type": "code",
   "execution_count": 15,
   "metadata": {},
   "outputs": [],
   "source": [
    "parsed_sentences = [(numberize_sentence(s[0]), numberize_labels(s[1])) for s in sentences]\n",
    "parsed_test_sentences = [numberize_sentence(s[0]) for s in test_sentences]"
   ]
  },
  {
   "cell_type": "code",
   "execution_count": 16,
   "metadata": {
    "scrolled": true
   },
   "outputs": [
    {
     "data": {
      "text/plain": [
       "Counter({7: 44028,\n",
       "         0: 22,\n",
       "         12: 21,\n",
       "         5: 71,\n",
       "         13: 114,\n",
       "         6: 32,\n",
       "         17: 176,\n",
       "         16: 11,\n",
       "         1: 8,\n",
       "         14: 89,\n",
       "         4: 132,\n",
       "         20: 41,\n",
       "         2: 38,\n",
       "         8: 91,\n",
       "         3: 12,\n",
       "         10: 17,\n",
       "         11: 26,\n",
       "         18: 14,\n",
       "         15: 33,\n",
       "         19: 5,\n",
       "         9: 19})"
      ]
     },
     "execution_count": 16,
     "metadata": {},
     "output_type": "execute_result"
    }
   ],
   "source": [
    "Counter(sum([s[1] for s in sentences], []))\n",
    "Counter(sum([np.argmax(s[1], axis=-1).tolist() for s in parsed_sentences], []))"
   ]
  },
  {
   "cell_type": "code",
   "execution_count": 17,
   "metadata": {
    "scrolled": true
   },
   "outputs": [
    {
     "name": "stdout",
     "output_type": "stream",
     "text": [
      "Model: \"model_1\"\n",
      "__________________________________________________________________________________________________\n",
      "Layer (type)                    Output Shape         Param #     Connected to                     \n",
      "==================================================================================================\n",
      "input_1 (InputLayer)            (None, 50)           0                                            \n",
      "__________________________________________________________________________________________________\n",
      "masking_1 (Masking)             (None, 50)           0           input_1[0][0]                    \n",
      "__________________________________________________________________________________________________\n",
      "embedding_1 (Embedding)         (None, 50, 50)       72900       masking_1[0][0]                  \n",
      "__________________________________________________________________________________________________\n",
      "input_2 (InputLayer)            (None, 50, 14)       0                                            \n",
      "__________________________________________________________________________________________________\n",
      "dropout_1 (Dropout)             (None, 50, 50)       0           embedding_1[0][0]                \n",
      "__________________________________________________________________________________________________\n",
      "masking_2 (Masking)             (None, 50, 14)       0           input_2[0][0]                    \n",
      "__________________________________________________________________________________________________\n",
      "concatenate_1 (Concatenate)     (None, 50, 64)       0           dropout_1[0][0]                  \n",
      "                                                                 masking_2[0][0]                  \n",
      "__________________________________________________________________________________________________\n",
      "bidirectional_1 (Bidirectional) (None, 50, 200)      33000       concatenate_1[0][0]              \n",
      "__________________________________________________________________________________________________\n",
      "time_distributed_1 (TimeDistrib (None, 50, 21)       4221        bidirectional_1[0][0]            \n",
      "==================================================================================================\n",
      "Total params: 110,121\n",
      "Trainable params: 110,121\n",
      "Non-trainable params: 0\n",
      "__________________________________________________________________________________________________\n"
     ]
    },
    {
     "name": "stderr",
     "output_type": "stream",
     "text": [
      "/home/stud/btech/cse/2016/mukuntha.cs16/anaconda3/envs/py36/lib/python3.6/site-packages/tensorflow_core/python/framework/indexed_slices.py:424: UserWarning: Converting sparse IndexedSlices to a dense Tensor of unknown shape. This may consume a large amount of memory.\n",
      "  \"Converting sparse IndexedSlices to a dense Tensor of unknown shape. \"\n"
     ]
    },
    {
     "name": "stdout",
     "output_type": "stream",
     "text": [
      "Train on 648 samples, validate on 72 samples\n",
      "Epoch 1/3\n",
      "648/648 [==============================] - 64s 98ms/step - loss: 0.1596 - accuracy: 0.9355 - val_loss: 0.1160 - val_accuracy: 0.9517\n",
      "Epoch 2/3\n",
      "648/648 [==============================] - 70s 108ms/step - loss: 0.1101 - accuracy: 0.9424 - val_loss: 0.1016 - val_accuracy: 0.9496\n",
      "Epoch 3/3\n",
      "648/648 [==============================] - 68s 104ms/step - loss: 0.0969 - accuracy: 0.9439 - val_loss: 0.0968 - val_accuracy: 0.9517\n"
     ]
    },
    {
     "name": "stderr",
     "output_type": "stream",
     "text": [
      "/home/stud/btech/cse/2016/mukuntha.cs16/anaconda3/envs/py36/lib/python3.6/site-packages/sklearn/metrics/classification.py:1437: UndefinedMetricWarning: Precision and F-score are ill-defined and being set to 0.0 in labels with no predicted samples.\n",
      "  'precision', 'predicted', average, warn_for)\n"
     ]
    },
    {
     "name": "stdout",
     "output_type": "stream",
     "text": [
      "[Fold (1/5)] Accuracy: 0.9434173669467787, Precision: 0.9191303963902423, Recall: 0.9434173669467787, FScore: 0.92703092611038\n",
      "Model: \"model_2\"\n",
      "__________________________________________________________________________________________________\n",
      "Layer (type)                    Output Shape         Param #     Connected to                     \n",
      "==================================================================================================\n",
      "input_3 (InputLayer)            (None, 50)           0                                            \n",
      "__________________________________________________________________________________________________\n",
      "masking_3 (Masking)             (None, 50)           0           input_3[0][0]                    \n",
      "__________________________________________________________________________________________________\n",
      "embedding_2 (Embedding)         (None, 50, 50)       72900       masking_3[0][0]                  \n",
      "__________________________________________________________________________________________________\n",
      "input_4 (InputLayer)            (None, 50, 14)       0                                            \n",
      "__________________________________________________________________________________________________\n",
      "dropout_2 (Dropout)             (None, 50, 50)       0           embedding_2[0][0]                \n",
      "__________________________________________________________________________________________________\n",
      "masking_4 (Masking)             (None, 50, 14)       0           input_4[0][0]                    \n",
      "__________________________________________________________________________________________________\n",
      "concatenate_2 (Concatenate)     (None, 50, 64)       0           dropout_2[0][0]                  \n",
      "                                                                 masking_4[0][0]                  \n",
      "__________________________________________________________________________________________________\n",
      "bidirectional_2 (Bidirectional) (None, 50, 200)      33000       concatenate_2[0][0]              \n",
      "__________________________________________________________________________________________________\n",
      "time_distributed_2 (TimeDistrib (None, 50, 21)       4221        bidirectional_2[0][0]            \n",
      "==================================================================================================\n",
      "Total params: 110,121\n",
      "Trainable params: 110,121\n",
      "Non-trainable params: 0\n",
      "__________________________________________________________________________________________________\n"
     ]
    },
    {
     "name": "stderr",
     "output_type": "stream",
     "text": [
      "/home/stud/btech/cse/2016/mukuntha.cs16/anaconda3/envs/py36/lib/python3.6/site-packages/tensorflow_core/python/framework/indexed_slices.py:424: UserWarning: Converting sparse IndexedSlices to a dense Tensor of unknown shape. This may consume a large amount of memory.\n",
      "  \"Converting sparse IndexedSlices to a dense Tensor of unknown shape. \"\n"
     ]
    },
    {
     "name": "stdout",
     "output_type": "stream",
     "text": [
      "Train on 648 samples, validate on 72 samples\n",
      "Epoch 1/3\n",
      "648/648 [==============================] - 74s 114ms/step - loss: 0.1543 - accuracy: 0.9403 - val_loss: 0.1149 - val_accuracy: 0.9517\n",
      "Epoch 2/3\n",
      "648/648 [==============================] - 82s 127ms/step - loss: 0.1091 - accuracy: 0.9456 - val_loss: 0.1086 - val_accuracy: 0.9517\n",
      "Epoch 3/3\n",
      "648/648 [==============================] - 83s 128ms/step - loss: 0.0940 - accuracy: 0.9482 - val_loss: 0.1077 - val_accuracy: 0.9405\n"
     ]
    },
    {
     "name": "stderr",
     "output_type": "stream",
     "text": [
      "/home/stud/btech/cse/2016/mukuntha.cs16/anaconda3/envs/py36/lib/python3.6/site-packages/sklearn/metrics/classification.py:1437: UndefinedMetricWarning: Precision and F-score are ill-defined and being set to 0.0 in labels with no predicted samples.\n",
      "  'precision', 'predicted', average, warn_for)\n"
     ]
    },
    {
     "name": "stdout",
     "output_type": "stream",
     "text": [
      "[Fold (2/5)] Accuracy: 0.9339007092198581, Precision: 0.9060983443652894, Recall: 0.9339007092198581, FScore: 0.9179427989287123\n",
      "Model: \"model_3\"\n",
      "__________________________________________________________________________________________________\n",
      "Layer (type)                    Output Shape         Param #     Connected to                     \n",
      "==================================================================================================\n",
      "input_5 (InputLayer)            (None, 50)           0                                            \n",
      "__________________________________________________________________________________________________\n",
      "masking_5 (Masking)             (None, 50)           0           input_5[0][0]                    \n",
      "__________________________________________________________________________________________________\n",
      "embedding_3 (Embedding)         (None, 50, 50)       72900       masking_5[0][0]                  \n",
      "__________________________________________________________________________________________________\n",
      "input_6 (InputLayer)            (None, 50, 14)       0                                            \n",
      "__________________________________________________________________________________________________\n",
      "dropout_3 (Dropout)             (None, 50, 50)       0           embedding_3[0][0]                \n",
      "__________________________________________________________________________________________________\n",
      "masking_6 (Masking)             (None, 50, 14)       0           input_6[0][0]                    \n",
      "__________________________________________________________________________________________________\n",
      "concatenate_3 (Concatenate)     (None, 50, 64)       0           dropout_3[0][0]                  \n",
      "                                                                 masking_6[0][0]                  \n",
      "__________________________________________________________________________________________________\n",
      "bidirectional_3 (Bidirectional) (None, 50, 200)      33000       concatenate_3[0][0]              \n",
      "__________________________________________________________________________________________________\n",
      "time_distributed_3 (TimeDistrib (None, 50, 21)       4221        bidirectional_3[0][0]            \n",
      "==================================================================================================\n",
      "Total params: 110,121\n",
      "Trainable params: 110,121\n",
      "Non-trainable params: 0\n",
      "__________________________________________________________________________________________________\n"
     ]
    },
    {
     "name": "stderr",
     "output_type": "stream",
     "text": [
      "/home/stud/btech/cse/2016/mukuntha.cs16/anaconda3/envs/py36/lib/python3.6/site-packages/tensorflow_core/python/framework/indexed_slices.py:424: UserWarning: Converting sparse IndexedSlices to a dense Tensor of unknown shape. This may consume a large amount of memory.\n",
      "  \"Converting sparse IndexedSlices to a dense Tensor of unknown shape. \"\n"
     ]
    },
    {
     "name": "stdout",
     "output_type": "stream",
     "text": [
      "Train on 648 samples, validate on 72 samples\n",
      "Epoch 1/3\n",
      "648/648 [==============================] - 82s 127ms/step - loss: 0.1580 - accuracy: 0.9393 - val_loss: 0.1162 - val_accuracy: 0.9510\n",
      "Epoch 2/3\n",
      "648/648 [==============================] - 77s 119ms/step - loss: 0.1100 - accuracy: 0.9448 - val_loss: 0.1099 - val_accuracy: 0.9510\n",
      "Epoch 3/3\n",
      "648/648 [==============================] - 71s 110ms/step - loss: 0.0964 - accuracy: 0.9459 - val_loss: 0.1022 - val_accuracy: 0.9489\n"
     ]
    },
    {
     "name": "stderr",
     "output_type": "stream",
     "text": [
      "/home/stud/btech/cse/2016/mukuntha.cs16/anaconda3/envs/py36/lib/python3.6/site-packages/sklearn/metrics/classification.py:1437: UndefinedMetricWarning: Precision and F-score are ill-defined and being set to 0.0 in labels with no predicted samples.\n",
      "  'precision', 'predicted', average, warn_for)\n"
     ]
    },
    {
     "name": "stdout",
     "output_type": "stream",
     "text": [
      "[Fold (3/5)] Accuracy: 0.9431321084864392, Precision: 0.9111727091164444, Recall: 0.9431321084864392, FScore: 0.9227086842055325\n",
      "Model: \"model_4\"\n",
      "__________________________________________________________________________________________________\n",
      "Layer (type)                    Output Shape         Param #     Connected to                     \n",
      "==================================================================================================\n",
      "input_7 (InputLayer)            (None, 50)           0                                            \n",
      "__________________________________________________________________________________________________\n",
      "masking_7 (Masking)             (None, 50)           0           input_7[0][0]                    \n",
      "__________________________________________________________________________________________________\n",
      "embedding_4 (Embedding)         (None, 50, 50)       72900       masking_7[0][0]                  \n",
      "__________________________________________________________________________________________________\n",
      "input_8 (InputLayer)            (None, 50, 14)       0                                            \n",
      "__________________________________________________________________________________________________\n",
      "dropout_4 (Dropout)             (None, 50, 50)       0           embedding_4[0][0]                \n",
      "__________________________________________________________________________________________________\n",
      "masking_8 (Masking)             (None, 50, 14)       0           input_8[0][0]                    \n",
      "__________________________________________________________________________________________________\n",
      "concatenate_4 (Concatenate)     (None, 50, 64)       0           dropout_4[0][0]                  \n",
      "                                                                 masking_8[0][0]                  \n",
      "__________________________________________________________________________________________________\n",
      "bidirectional_4 (Bidirectional) (None, 50, 200)      33000       concatenate_4[0][0]              \n",
      "__________________________________________________________________________________________________\n",
      "time_distributed_4 (TimeDistrib (None, 50, 21)       4221        bidirectional_4[0][0]            \n",
      "==================================================================================================\n",
      "Total params: 110,121\n",
      "Trainable params: 110,121\n",
      "Non-trainable params: 0\n",
      "__________________________________________________________________________________________________\n"
     ]
    },
    {
     "name": "stderr",
     "output_type": "stream",
     "text": [
      "/home/stud/btech/cse/2016/mukuntha.cs16/anaconda3/envs/py36/lib/python3.6/site-packages/tensorflow_core/python/framework/indexed_slices.py:424: UserWarning: Converting sparse IndexedSlices to a dense Tensor of unknown shape. This may consume a large amount of memory.\n",
      "  \"Converting sparse IndexedSlices to a dense Tensor of unknown shape. \"\n"
     ]
    },
    {
     "name": "stdout",
     "output_type": "stream",
     "text": [
      "Train on 648 samples, validate on 72 samples\n",
      "Epoch 1/3\n",
      "648/648 [==============================] - 75s 116ms/step - loss: 0.1740 - accuracy: 0.9308 - val_loss: 0.1208 - val_accuracy: 0.9517\n",
      "Epoch 2/3\n",
      "648/648 [==============================] - 60s 93ms/step - loss: 0.1177 - accuracy: 0.9407 - val_loss: 0.1057 - val_accuracy: 0.9517\n",
      "Epoch 3/3\n",
      "648/648 [==============================] - 57s 89ms/step - loss: 0.1017 - accuracy: 0.9423 - val_loss: 0.1022 - val_accuracy: 0.9503\n"
     ]
    },
    {
     "name": "stderr",
     "output_type": "stream",
     "text": [
      "/home/stud/btech/cse/2016/mukuntha.cs16/anaconda3/envs/py36/lib/python3.6/site-packages/sklearn/metrics/classification.py:1437: UndefinedMetricWarning: Precision and F-score are ill-defined and being set to 0.0 in labels with no predicted samples.\n",
      "  'precision', 'predicted', average, warn_for)\n"
     ]
    },
    {
     "name": "stdout",
     "output_type": "stream",
     "text": [
      "[Fold (4/5)] Accuracy: 0.9536668561682774, Precision: 0.9123684623968876, Recall: 0.9536668561682774, FScore: 0.9325606590020604\n",
      "Model: \"model_5\"\n",
      "__________________________________________________________________________________________________\n",
      "Layer (type)                    Output Shape         Param #     Connected to                     \n",
      "==================================================================================================\n",
      "input_9 (InputLayer)            (None, 50)           0                                            \n",
      "__________________________________________________________________________________________________\n",
      "masking_9 (Masking)             (None, 50)           0           input_9[0][0]                    \n",
      "__________________________________________________________________________________________________\n",
      "embedding_5 (Embedding)         (None, 50, 50)       72900       masking_9[0][0]                  \n",
      "__________________________________________________________________________________________________\n",
      "input_10 (InputLayer)           (None, 50, 14)       0                                            \n",
      "__________________________________________________________________________________________________\n",
      "dropout_5 (Dropout)             (None, 50, 50)       0           embedding_5[0][0]                \n",
      "__________________________________________________________________________________________________\n",
      "masking_10 (Masking)            (None, 50, 14)       0           input_10[0][0]                   \n",
      "__________________________________________________________________________________________________\n",
      "concatenate_5 (Concatenate)     (None, 50, 64)       0           dropout_5[0][0]                  \n",
      "                                                                 masking_10[0][0]                 \n",
      "__________________________________________________________________________________________________\n",
      "bidirectional_5 (Bidirectional) (None, 50, 200)      33000       concatenate_5[0][0]              \n",
      "__________________________________________________________________________________________________\n",
      "time_distributed_5 (TimeDistrib (None, 50, 21)       4221        bidirectional_5[0][0]            \n",
      "==================================================================================================\n",
      "Total params: 110,121\n",
      "Trainable params: 110,121\n",
      "Non-trainable params: 0\n",
      "__________________________________________________________________________________________________\n"
     ]
    },
    {
     "name": "stderr",
     "output_type": "stream",
     "text": [
      "/home/stud/btech/cse/2016/mukuntha.cs16/anaconda3/envs/py36/lib/python3.6/site-packages/tensorflow_core/python/framework/indexed_slices.py:424: UserWarning: Converting sparse IndexedSlices to a dense Tensor of unknown shape. This may consume a large amount of memory.\n",
      "  \"Converting sparse IndexedSlices to a dense Tensor of unknown shape. \"\n"
     ]
    },
    {
     "name": "stdout",
     "output_type": "stream",
     "text": [
      "Train on 648 samples, validate on 72 samples\n",
      "Epoch 1/3\n",
      "648/648 [==============================] - 80s 124ms/step - loss: 0.1689 - accuracy: 0.9324 - val_loss: 0.0921 - val_accuracy: 0.9599\n",
      "Epoch 2/3\n",
      "648/648 [==============================] - 65s 100ms/step - loss: 0.1152 - accuracy: 0.9409 - val_loss: 0.0773 - val_accuracy: 0.9563\n",
      "Epoch 3/3\n",
      "648/648 [==============================] - 80s 123ms/step - loss: 0.1003 - accuracy: 0.9432 - val_loss: 0.0665 - val_accuracy: 0.9577\n",
      "[Fold (5/5)] Accuracy: 0.9470622454915648, Precision: 0.9087660823382572, Recall: 0.9470622454915648, FScore: 0.9262148981230484\n",
      "Accuracy: 0.9442219679633868, Precision: 0.9109520852854668, Recall: 0.9442219679633868, FScore: 0.9260038232580603\n"
     ]
    },
    {
     "name": "stderr",
     "output_type": "stream",
     "text": [
      "/home/stud/btech/cse/2016/mukuntha.cs16/anaconda3/envs/py36/lib/python3.6/site-packages/sklearn/metrics/classification.py:1437: UndefinedMetricWarning: Precision and F-score are ill-defined and being set to 0.0 in labels with no predicted samples.\n",
      "  'precision', 'predicted', average, warn_for)\n"
     ]
    }
   ],
   "source": [
    "# Build the test and training sets of sentences.\n",
    "kf = KFold(n_splits = 5, shuffle = False)\n",
    "parsed_sentences = np.asarray(parsed_sentences)\n",
    "scores = []\n",
    "y_pred_idx = []\n",
    "y_test_idx = []\n",
    "\n",
    "preds = []\n",
    "fold_count = 0\n",
    "foldwise_score_outputs = []\n",
    "\n",
    "for train_index, test_index in kf.split(parsed_sentences):\n",
    "    fold_count += 1\n",
    "    y_pred_idx_fold = []\n",
    "    y_test_idx_fold = []\n",
    "    scores_fold = []\n",
    "    \n",
    "    train_data = parsed_sentences[train_index]\n",
    "    test_data = parsed_sentences[test_index]\n",
    "    X_train = [np.asarray([a[0][0] for a in train_data]), np.asarray([a[0][1] for a in train_data])]\n",
    "    Y_train = np.asarray([a[1] for a in train_data])\n",
    "    X_test = [np.asarray([a[0][0] for a in test_data]), np.asarray([a[0][1] for a in test_data])]\n",
    "    Y_test = np.asarray([a[1] for a in test_data])\n",
    "    model = create_model()\n",
    "    model.compile(optimizer = 'rmsprop',\n",
    "                  loss = 'categorical_crossentropy',\n",
    "                  metrics = ['accuracy'])\n",
    "\n",
    "    model.fit(X_train, Y_train, epochs = 3, validation_split = 0.1, batch_size = 4)\n",
    "\n",
    "    y_pred_padded = np.argmax(model.predict(X_test), axis = -1)\n",
    "    y_true_padded = np.argmax(Y_test, axis = -1)\n",
    "    \n",
    "    for i in range(X_test[0].shape[0]):\n",
    "        for j in range(X_test[0].shape[1]):\n",
    "            if X_test[0][i][j] == word2idx['PAD']:\n",
    "                continue\n",
    "            else:\n",
    "                pred = y_pred_padded[i][j]\n",
    "                true = y_true_padded[i][j]\n",
    "                y_pred_idx_fold.append(pred)\n",
    "                y_pred_idx.append(pred)\n",
    "                y_test_idx_fold.append(true)\n",
    "                y_test_idx.append(true)\n",
    "                scores.append(pred == true)\n",
    "                scores_fold.append(pred == true)\n",
    "\n",
    "    prec_, rec_, fscore_, _ = precision_recall_fscore_support(y_test_idx_fold, y_pred_idx_fold, average = 'weighted')\n",
    "    print('[Fold ({}/{})] Accuracy: {}, Precision: {}, Recall: {}, FScore: {}'.format(fold_count, kf.n_splits, np.asarray(scores_fold).mean(), prec_, rec_, fscore_))\n",
    "    foldwise_score_outputs.append('[Fold ({}/{})] Accuracy: {}, Precision: {}, Recall: {}, FScore: {}'.format(fold_count, kf.n_splits, np.asarray(scores_fold).mean(), prec_, rec_, fscore_))\n",
    "    \n",
    "prec, rec, fscore, _ = precision_recall_fscore_support(y_test_idx, y_pred_idx, average = 'weighted')\n",
    "print('Accuracy: {}, Precision: {}, Recall: {}, FScore: {}'.format(np.asarray(scores).mean(), prec, rec, fscore))"
   ]
  },
  {
   "cell_type": "code",
   "execution_count": 22,
   "metadata": {},
   "outputs": [
    {
     "name": "stdout",
     "output_type": "stream",
     "text": [
      "Foldwise scores:\n",
      "[Fold (1/5)] Accuracy: 0.9434173669467787, Precision: 0.9191303963902423, Recall: 0.9434173669467787, FScore: 0.92703092611038\n",
      "[Fold (2/5)] Accuracy: 0.9339007092198581, Precision: 0.9060983443652894, Recall: 0.9339007092198581, FScore: 0.9179427989287123\n",
      "[Fold (3/5)] Accuracy: 0.9431321084864392, Precision: 0.9111727091164444, Recall: 0.9431321084864392, FScore: 0.9227086842055325\n",
      "[Fold (4/5)] Accuracy: 0.9536668561682774, Precision: 0.9123684623968876, Recall: 0.9536668561682774, FScore: 0.9325606590020604\n",
      "[Fold (5/5)] Accuracy: 0.9470622454915648, Precision: 0.9087660823382572, Recall: 0.9470622454915648, FScore: 0.9262148981230484\n",
      "\n",
      "----\n",
      "Averaged Cross-Validation scores:\n",
      "Accuracy: 0.9442219679633868, Precision: 0.9109520852854668, Recall: 0.9442219679633868, FScore: 0.9260038232580603\n"
     ]
    }
   ],
   "source": [
    "print(\"Foldwise scores:\")\n",
    "for i in foldwise_score_outputs:\n",
    "    print(i)\n",
    "print(\"\\n----\\nAveraged Cross-Validation scores:\")\n",
    "print('Accuracy: {}, Precision: {}, Recall: {}, FScore: {}'.format(np.asarray(scores).mean(), prec, rec, fscore))"
   ]
  },
  {
   "cell_type": "code",
   "execution_count": 23,
   "metadata": {},
   "outputs": [],
   "source": [
    "X_test_data = [np.asarray([a[0] for a in parsed_test_sentences]), np.asarray([a[1] for a in parsed_test_sentences])]\n",
    "predictions_full = model.predict(X_test_data)"
   ]
  },
  {
   "cell_type": "code",
   "execution_count": 24,
   "metadata": {},
   "outputs": [],
   "source": [
    "predictions_list = []\n",
    "for i, s in enumerate(test_sentences):\n",
    "    output = []\n",
    "    for j, w in enumerate(s[0]):\n",
    "        output.append(np.argmax(predictions_full[i][j]))\n",
    "    predictions_list.append(output)"
   ]
  },
  {
   "cell_type": "code",
   "execution_count": 25,
   "metadata": {},
   "outputs": [],
   "source": [
    "with open('NER-TestSet-10Types-RNN-Predictions.txt', 'w', encoding = 'utf-8') as f:\n",
    "    for words, predictions in zip(test_sentences, predictions_list):\n",
    "        assert(len(words[0]) == len(predictions))\n",
    "        for word, prediction in zip(words[0], predictions):\n",
    "            f.writelines(word + '\\t' + idx2labels[prediction] + '\\n')\n",
    "        f.writelines('\\n')"
   ]
  },
  {
   "cell_type": "code",
   "execution_count": null,
   "metadata": {},
   "outputs": [],
   "source": []
  },
  {
   "cell_type": "code",
   "execution_count": null,
   "metadata": {},
   "outputs": [],
   "source": []
  }
 ],
 "metadata": {
  "kernelspec": {
   "display_name": "Python 3",
   "language": "python",
   "name": "python3"
  },
  "language_info": {
   "codemirror_mode": {
    "name": "ipython",
    "version": 3
   },
   "file_extension": ".py",
   "mimetype": "text/x-python",
   "name": "python",
   "nbconvert_exporter": "python",
   "pygments_lexer": "ipython3",
   "version": "3.6.9"
  }
 },
 "nbformat": 4,
 "nbformat_minor": 4
}
