{
 "cells": [
  {
   "cell_type": "code",
   "execution_count": 0,
   "metadata": {
    "colab": {},
    "colab_type": "code",
    "id": "DTAEuTboNeJy"
   },
   "outputs": [],
   "source": [
    "# Import the required libraries.\n",
    "import re\n",
    "import math\n",
    "import random\n",
    "import collections\n",
    "import operator\n",
    "import numpy as np\n",
    "import pandas as pd\n",
    "from sklearn.model_selection import KFold\n",
    "from sklearn.metrics import precision_recall_fscore_support, f1_score\n",
    "from sklearn.metrics import confusion_matrix, classification_report\n",
    "from collections import defaultdict, Counter\n",
    "import matplotlib\n",
    "from matplotlib import pyplot as plt\n",
    "import seaborn as sns\n",
    "\n",
    "random.seed(11)\n",
    "np.random.seed(11)"
   ]
  },
  {
   "cell_type": "code",
   "execution_count": 2,
   "metadata": {
    "colab": {
     "base_uri": "https://localhost:8080/",
     "height": 34
    },
    "colab_type": "code",
    "id": "kq2bZOCyNeKD",
    "outputId": "41a30f4f-cd90-4b48-c405-dd0d56b9057a"
   },
   "outputs": [
    {
     "name": "stderr",
     "output_type": "stream",
     "text": [
      "Using TensorFlow backend.\n"
     ]
    }
   ],
   "source": [
    "from keras.models import Sequential\n",
    "from keras.layers import Dense, LSTM, Conv1D, InputLayer, Bidirectional, TimeDistributed, Embedding, Activation, Masking, Flatten\n",
    "from keras.optimizers import Adam, SGD\n",
    "from keras.preprocessing.sequence import pad_sequences"
   ]
  },
  {
   "cell_type": "code",
   "execution_count": 3,
   "metadata": {
    "colab": {
     "base_uri": "https://localhost:8080/",
     "height": 82,
     "resources": {
      "http://localhost:8080/nbextensions/google.colab/files.js": {
       "data": "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",
       "headers": [
        [
         "content-type",
         "application/javascript"
        ]
       ],
       "ok": true,
       "status": 200,
       "status_text": "OK"
      }
     }
    },
    "colab_type": "code",
    "id": "nF8Th5RcOAka",
    "outputId": "197d5a87-c1ea-4872-b0c5-5920d6cf2586"
   },
   "outputs": [
    {
     "data": {
      "text/html": [
       "\n",
       "     <input type=\"file\" id=\"files-de8f16db-28d6-4614-bad6-d728a495c660\" name=\"files[]\" multiple disabled />\n",
       "     <output id=\"result-de8f16db-28d6-4614-bad6-d728a495c660\">\n",
       "      Upload widget is only available when the cell has been executed in the\n",
       "      current browser session. Please rerun this cell to enable.\n",
       "      </output>\n",
       "      <script src=\"/nbextensions/google.colab/files.js\"></script> "
      ],
      "text/plain": [
       "<IPython.core.display.HTML object>"
      ]
     },
     "metadata": {
      "tags": []
     },
     "output_type": "display_data"
    },
    {
     "name": "stdout",
     "output_type": "stream",
     "text": [
      "Saving Brown_train.txt to Brown_train.txt\n"
     ]
    }
   ],
   "source": [
    "from google.colab import files\n",
    "uploaded = files.upload()"
   ]
  },
  {
   "cell_type": "code",
   "execution_count": 0,
   "metadata": {
    "colab": {},
    "colab_type": "code",
    "id": "YkPYCVj_NeKV"
   },
   "outputs": [],
   "source": [
    "def parse_sentence(sentence):\n",
    "    '''\n",
    "    Function for parsing the words and tags from the\n",
    "    sentences of the input corpus.\n",
    "    '''\n",
    "    word_tag_pairs = sentence.split(\" \")\n",
    "    words = []\n",
    "    tags = []\n",
    "\n",
    "    for i, word_tag in enumerate(word_tag_pairs):\n",
    "        word, tag = word_tag.strip().rsplit('/', 1)\n",
    "        words.append(word)\n",
    "        tags.append(tag)\n",
    "        \n",
    "    return words, tags"
   ]
  },
  {
   "cell_type": "code",
   "execution_count": 0,
   "metadata": {
    "colab": {},
    "colab_type": "code",
    "id": "kXUd2ekoNeKf"
   },
   "outputs": [],
   "source": [
    "# Parse the sentences into a list.\n",
    "parsed_sentences = []\n",
    "\n",
    "with open('./Brown_train.txt', 'r') as file:\n",
    "    sentences = file.readlines()\n",
    "\n",
    "    for sentence in sentences:\n",
    "        sentence = sentence.strip()\n",
    "        parsed_sentences.append(parse_sentence(sentence))"
   ]
  },
  {
   "cell_type": "code",
   "execution_count": 0,
   "metadata": {
    "colab": {},
    "colab_type": "code",
    "id": "uwyuAfjGNeKq"
   },
   "outputs": [],
   "source": [
    "def get_vocab(X_train, Y_train):\n",
    "    '''\n",
    "    Function for building the vocabulary from the training set of\n",
    "    words and tags.\n",
    "    '''\n",
    "    vocabulary2id = dict()    \n",
    "    tag2id = dict()\n",
    "    vocabulary2id['PAD'] = 0\n",
    "    vocabulary2id['UNK'] = 1\n",
    "\n",
    "    for sent in X_train:\n",
    "        for word in sent:\n",
    "            if word not in vocabulary2id.keys():\n",
    "                vocabulary2id[word] = len(vocabulary2id)\n",
    "    \n",
    "    tag2id['PAD'] = 0\n",
    "    for sent in Y_train:\n",
    "        for tag in sent:\n",
    "            if tag not in tag2id.keys():\n",
    "                tag2id[tag] = len(tag2id)\n",
    "    \n",
    "    return vocabulary2id, tag2id\n",
    "\n",
    "def get_word_tag_counts(X_train, Y_train, vocabulary2id, tag2id):\n",
    "    '''\n",
    "    Function for calculating the counts pertaining to the\n",
    "    individual word tags.\n",
    "    '''\n",
    "    wordcount = defaultdict(int)\n",
    "    tagcount = defaultdict(int)\n",
    "    tagpaircount = defaultdict(int)\n",
    "    tagtriplecount = defaultdict(int)\n",
    "    \n",
    "    for sent in X_train:\n",
    "        for word in sent:\n",
    "            wordcount[word] += 1\n",
    "    \n",
    "    for sent in Y_train:\n",
    "        for tag in sent:\n",
    "            tagcount[tag] += 1\n",
    "    \n",
    "    for sent in Y_train:\n",
    "        for i in range(len(sent) - 1):\n",
    "            tagpaircount[sent[i], sent[i + 1]] += 1\n",
    "\n",
    "    for sent in Y_train:\n",
    "        for i in range(len(sent) - 2):\n",
    "            tagtriplecount[sent[i], sent[i + 1], sent[i + 2]] += 1\n",
    "    \n",
    "    return wordcount, tagcount, tagpaircount, tagtriplecount"
   ]
  },
  {
   "cell_type": "code",
   "execution_count": 9,
   "metadata": {
    "colab": {
     "base_uri": "https://localhost:8080/",
     "height": 1000
    },
    "colab_type": "code",
    "id": "FtYOouggNeK0",
    "outputId": "6d5ff649-3719-4a3f-812b-5584e6d08961"
   },
   "outputs": [
    {
     "data": {
      "text/plain": [
       "[(['At',\n",
       "   'that',\n",
       "   'time',\n",
       "   'highway',\n",
       "   'engineers',\n",
       "   'traveled',\n",
       "   'rough',\n",
       "   'and',\n",
       "   'dirty',\n",
       "   'roads',\n",
       "   'to',\n",
       "   'accomplish',\n",
       "   'their',\n",
       "   'duties',\n",
       "   '.'],\n",
       "  ['ADP',\n",
       "   'DET',\n",
       "   'NOUN',\n",
       "   'NOUN',\n",
       "   'NOUN',\n",
       "   'VERB',\n",
       "   'ADJ',\n",
       "   'CONJ',\n",
       "   'ADJ',\n",
       "   'NOUN',\n",
       "   'PRT',\n",
       "   'VERB',\n",
       "   'DET',\n",
       "   'NOUN',\n",
       "   '.']),\n",
       " (['Using',\n",
       "   'privately-owned',\n",
       "   'vehicles',\n",
       "   'was',\n",
       "   'a',\n",
       "   'personal',\n",
       "   'hardship',\n",
       "   'for',\n",
       "   'such',\n",
       "   'employees',\n",
       "   ',',\n",
       "   'and',\n",
       "   'the',\n",
       "   'matter',\n",
       "   'of',\n",
       "   'providing',\n",
       "   'state',\n",
       "   'transportation',\n",
       "   'was',\n",
       "   'felt',\n",
       "   'perfectly',\n",
       "   'justifiable',\n",
       "   '.'],\n",
       "  ['VERB',\n",
       "   'ADJ',\n",
       "   'NOUN',\n",
       "   'VERB',\n",
       "   'DET',\n",
       "   'ADJ',\n",
       "   'NOUN',\n",
       "   'ADP',\n",
       "   'ADJ',\n",
       "   'NOUN',\n",
       "   '.',\n",
       "   'CONJ',\n",
       "   'DET',\n",
       "   'NOUN',\n",
       "   'ADP',\n",
       "   'VERB',\n",
       "   'NOUN',\n",
       "   'NOUN',\n",
       "   'VERB',\n",
       "   'VERB',\n",
       "   'ADV',\n",
       "   'ADJ',\n",
       "   '.']),\n",
       " (['Once',\n",
       "   'the',\n",
       "   'principle',\n",
       "   'was',\n",
       "   'established',\n",
       "   ',',\n",
       "   'the',\n",
       "   'increase',\n",
       "   'in',\n",
       "   'state-owned',\n",
       "   'vehicles',\n",
       "   'came',\n",
       "   'rapidly',\n",
       "   '.'],\n",
       "  ['ADP',\n",
       "   'DET',\n",
       "   'NOUN',\n",
       "   'VERB',\n",
       "   'VERB',\n",
       "   '.',\n",
       "   'DET',\n",
       "   'NOUN',\n",
       "   'ADP',\n",
       "   'ADJ',\n",
       "   'NOUN',\n",
       "   'VERB',\n",
       "   'ADV',\n",
       "   '.']),\n",
       " (['And',\n",
       "   'reasons',\n",
       "   'other',\n",
       "   'than',\n",
       "   'employee',\n",
       "   'need',\n",
       "   'contributed',\n",
       "   'to',\n",
       "   'the',\n",
       "   'growth',\n",
       "   '.'],\n",
       "  ['CONJ',\n",
       "   'NOUN',\n",
       "   'ADJ',\n",
       "   'ADP',\n",
       "   'NOUN',\n",
       "   'NOUN',\n",
       "   'VERB',\n",
       "   'ADP',\n",
       "   'DET',\n",
       "   'NOUN',\n",
       "   '.']),\n",
       " (['Table',\n",
       "   '1',\n",
       "   'immediately',\n",
       "   'below',\n",
       "   'shows',\n",
       "   'the',\n",
       "   'rate',\n",
       "   'of',\n",
       "   'growth',\n",
       "   'of',\n",
       "   'vehicles',\n",
       "   'and',\n",
       "   'employees',\n",
       "   '.'],\n",
       "  ['NOUN',\n",
       "   'NUM',\n",
       "   'ADV',\n",
       "   'ADV',\n",
       "   'VERB',\n",
       "   'DET',\n",
       "   'NOUN',\n",
       "   'ADP',\n",
       "   'NOUN',\n",
       "   'ADP',\n",
       "   'NOUN',\n",
       "   'CONJ',\n",
       "   'NOUN',\n",
       "   '.'])]"
      ]
     },
     "execution_count": 9,
     "metadata": {
      "tags": []
     },
     "output_type": "execute_result"
    }
   ],
   "source": [
    "parsed_sentences[:5]"
   ]
  },
  {
   "cell_type": "code",
   "execution_count": 0,
   "metadata": {
    "colab": {},
    "colab_type": "code",
    "id": "q7JLr5AedooV"
   },
   "outputs": [],
   "source": [
    "def build_model():\n",
    "    model = Sequential()\n",
    "    model.add(InputLayer(input_shape=(5, )))\n",
    "    model.add(Embedding(len(vocabulary2id), 100))\n",
    "    model.add(Flatten())\n",
    "    model.add(Dense(len(tag2id)))\n",
    "    model.add(Activation('softmax'))\n",
    "    model.compile(loss='categorical_crossentropy',\n",
    "                  optimizer=Adam(0.001),\n",
    "                  metrics=['accuracy'])\n",
    "    model.summary()\n",
    "    return model"
   ]
  },
  {
   "cell_type": "code",
   "execution_count": 0,
   "metadata": {
    "colab": {},
    "colab_type": "code",
    "id": "LeP15prFd7m_"
   },
   "outputs": [],
   "source": [
    "def id2onehot(Y, numtags):\n",
    "    out = []\n",
    "    for s in Y:\n",
    "        out.append(np.zeros(numtags))\n",
    "        out[-1][s] = 1.0\n",
    "    return np.array(out)"
   ]
  },
  {
   "cell_type": "code",
   "execution_count": 0,
   "metadata": {
    "colab": {},
    "colab_type": "code",
    "id": "HUmQkpytzuJc"
   },
   "outputs": [],
   "source": [
    "def make_example(words, vocabulary2id):\n",
    "    words_new = ['PAD', 'PAD'] + words + ['PAD', 'PAD']\n",
    "    examples = []\n",
    "    for i in range(len(words)):\n",
    "        context_words = words_new[i: i + 5]\n",
    "        context_word_idx = [vocabulary2id[w] if w in vocabulary2id.keys() else vocabulary2id['UNK'] for w in context_words]\n",
    "        examples.append(context_word_idx)\n",
    "\n",
    "    return examples"
   ]
  },
  {
   "cell_type": "code",
   "execution_count": 13,
   "metadata": {
    "colab": {
     "base_uri": "https://localhost:8080/",
     "height": 1000
    },
    "colab_type": "code",
    "id": "OMo1HI3CNeK_",
    "outputId": "aaf910e6-a2d7-469f-b84a-b022c6ca7513"
   },
   "outputs": [
    {
     "name": "stdout",
     "output_type": "stream",
     "text": [
      "Model: \"sequential_1\"\n",
      "_________________________________________________________________\n",
      "Layer (type)                 Output Shape              Param #   \n",
      "=================================================================\n",
      "embedding_1 (Embedding)      (None, 5, 100)            2211500   \n",
      "_________________________________________________________________\n",
      "flatten_1 (Flatten)          (None, 500)               0         \n",
      "_________________________________________________________________\n",
      "dense_1 (Dense)              (None, 13)                6513      \n",
      "_________________________________________________________________\n",
      "activation_1 (Activation)    (None, 13)                0         \n",
      "=================================================================\n",
      "Total params: 2,218,013\n",
      "Trainable params: 2,218,013\n",
      "Non-trainable params: 0\n",
      "_________________________________________________________________\n"
     ]
    },
    {
     "name": "stderr",
     "output_type": "stream",
     "text": [
      "/usr/local/lib/python3.6/dist-packages/tensorflow/python/framework/indexed_slices.py:434: UserWarning: Converting sparse IndexedSlices to a dense Tensor of unknown shape. This may consume a large amount of memory.\n",
      "  \"Converting sparse IndexedSlices to a dense Tensor of unknown shape. \"\n"
     ]
    },
    {
     "name": "stdout",
     "output_type": "stream",
     "text": [
      "Train on 238759 samples, validate on 59690 samples\n",
      "Epoch 1/5\n",
      "238759/238759 [==============================] - 11s 47us/step - loss: 0.3786 - accuracy: 0.9069 - val_loss: 0.1531 - val_accuracy: 0.9528\n",
      "Epoch 2/5\n",
      "238759/238759 [==============================] - 9s 39us/step - loss: 0.0628 - accuracy: 0.9817 - val_loss: 0.1353 - val_accuracy: 0.9573\n",
      "Epoch 3/5\n",
      "238759/238759 [==============================] - 9s 39us/step - loss: 0.0342 - accuracy: 0.9893 - val_loss: 0.1396 - val_accuracy: 0.9553\n",
      "Epoch 4/5\n",
      "238759/238759 [==============================] - 9s 39us/step - loss: 0.0227 - accuracy: 0.9929 - val_loss: 0.1440 - val_accuracy: 0.9551\n",
      "Epoch 5/5\n",
      "238759/238759 [==============================] - 9s 40us/step - loss: 0.0161 - accuracy: 0.9951 - val_loss: 0.1541 - val_accuracy: 0.9536\n",
      "Fold 1 test_accuracy: 0.9175521046178995\n",
      "Fold 1 Precision: 0.9175708490712462 Recall: 0.9175521046178995 F1-Score: 0.9162935613787996\n"
     ]
    },
    {
     "name": "stderr",
     "output_type": "stream",
     "text": [
      "/usr/local/lib/python3.6/dist-packages/sklearn/metrics/_classification.py:1272: UndefinedMetricWarning: Recall and F-score are ill-defined and being set to 0.0 in labels with no true samples. Use `zero_division` parameter to control this behavior.\n",
      "  _warn_prf(average, modifier, msg_start, len(result))\n"
     ]
    },
    {
     "name": "stdout",
     "output_type": "stream",
     "text": [
      "Model: \"sequential_2\"\n",
      "_________________________________________________________________\n",
      "Layer (type)                 Output Shape              Param #   \n",
      "=================================================================\n",
      "embedding_2 (Embedding)      (None, 5, 100)            2850100   \n",
      "_________________________________________________________________\n",
      "flatten_2 (Flatten)          (None, 500)               0         \n",
      "_________________________________________________________________\n",
      "dense_2 (Dense)              (None, 13)                6513      \n",
      "_________________________________________________________________\n",
      "activation_2 (Activation)    (None, 13)                0         \n",
      "=================================================================\n",
      "Total params: 2,856,613\n",
      "Trainable params: 2,856,613\n",
      "Non-trainable params: 0\n",
      "_________________________________________________________________\n",
      "Train on 318057 samples, validate on 79515 samples\n",
      "Epoch 1/5\n",
      "318057/318057 [==============================] - 14s 45us/step - loss: 0.3303 - accuracy: 0.9154 - val_loss: 0.1529 - val_accuracy: 0.9517\n",
      "Epoch 2/5\n",
      "318057/318057 [==============================] - 15s 46us/step - loss: 0.0511 - accuracy: 0.9847 - val_loss: 0.1410 - val_accuracy: 0.9541\n",
      "Epoch 3/5\n",
      "318057/318057 [==============================] - 14s 45us/step - loss: 0.0267 - accuracy: 0.9917 - val_loss: 0.1436 - val_accuracy: 0.9541\n",
      "Epoch 4/5\n",
      "318057/318057 [==============================] - 14s 44us/step - loss: 0.0164 - accuracy: 0.9950 - val_loss: 0.1532 - val_accuracy: 0.9532\n",
      "Epoch 5/5\n",
      "318057/318057 [==============================] - 14s 45us/step - loss: 0.0108 - accuracy: 0.9967 - val_loss: 0.1644 - val_accuracy: 0.9518\n",
      "Fold 2 test_accuracy: 0.9538182542571972\n",
      "Fold 2 Precision: 0.9539599018345375 Recall: 0.9538182542571972 F1-Score: 0.9538492424867576\n",
      "Model: \"sequential_3\"\n",
      "_________________________________________________________________\n",
      "Layer (type)                 Output Shape              Param #   \n",
      "=================================================================\n",
      "embedding_3 (Embedding)      (None, 5, 100)            2745900   \n",
      "_________________________________________________________________\n",
      "flatten_3 (Flatten)          (None, 500)               0         \n",
      "_________________________________________________________________\n",
      "dense_3 (Dense)              (None, 13)                6513      \n",
      "_________________________________________________________________\n",
      "activation_3 (Activation)    (None, 13)                0         \n",
      "=================================================================\n",
      "Total params: 2,752,413\n",
      "Trainable params: 2,752,413\n",
      "Non-trainable params: 0\n",
      "_________________________________________________________________\n",
      "Train on 312221 samples, validate on 78056 samples\n",
      "Epoch 1/5\n",
      "312221/312221 [==============================] - 14s 44us/step - loss: 0.3291 - accuracy: 0.9168 - val_loss: 0.1556 - val_accuracy: 0.9513\n",
      "Epoch 2/5\n",
      "312221/312221 [==============================] - 14s 44us/step - loss: 0.0499 - accuracy: 0.9853 - val_loss: 0.1445 - val_accuracy: 0.9534\n",
      "Epoch 3/5\n",
      "312221/312221 [==============================] - 14s 44us/step - loss: 0.0257 - accuracy: 0.9920 - val_loss: 0.1495 - val_accuracy: 0.9527\n",
      "Epoch 4/5\n",
      "312221/312221 [==============================] - 14s 43us/step - loss: 0.0158 - accuracy: 0.9952 - val_loss: 0.1559 - val_accuracy: 0.9523\n",
      "Epoch 5/5\n",
      "312221/312221 [==============================] - 13s 43us/step - loss: 0.0101 - accuracy: 0.9971 - val_loss: 0.1667 - val_accuracy: 0.9509\n",
      "Fold 3 test_accuracy: 0.9489376733476372\n",
      "Fold 3 Precision: 0.9485933876952576 Recall: 0.9489376733476372 F1-Score: 0.9486331633309958\n"
     ]
    }
   ],
   "source": [
    "# Build the test and training sets of sentences.\n",
    "kf = KFold(n_splits = 3, shuffle = False)\n",
    "parsed_sentences = np.asarray(parsed_sentences)\n",
    "scores = []\n",
    "scores1 = []\n",
    "y_pred_idx = []\n",
    "y_pred_idx1 = []\n",
    "y_test_idx = []\n",
    "y_test_idx1 = []\n",
    "\n",
    "preds_all_folds = []\n",
    "golds_all_folds = []\n",
    "\n",
    "for fold_num, (train_index, test_index) in enumerate(kf.split(parsed_sentences)):\n",
    "    train_data = parsed_sentences[train_index]\n",
    "    test_data = parsed_sentences[test_index]\n",
    "    X_train = [a[0] for a in train_data]\n",
    "    Y_train = [a[1] for a in train_data]\n",
    "    X_test = [a[0] for a in test_data]\n",
    "    Y_test = [a[1] for a in test_data]\n",
    "\n",
    "    # Build the vocabulary and word counts.\n",
    "    vocabulary2id, tag2id = get_vocab(X_train, Y_train)\n",
    "\n",
    "    X_train_ids = []\n",
    "    Y_train_ids = []\n",
    "    for x_sent, y_sent in zip(X_train, Y_train):\n",
    "        X_train_ids.extend(make_example(x_sent, vocabulary2id))\n",
    "        Y_train_ids.extend([tag2id[word] if word in tag2id.keys() else tag2id['UNK'] for word in y_sent])\n",
    "\n",
    "    X_test_ids = []\n",
    "    Y_test_ids = []\n",
    "    for x_sent, y_sent in zip(X_test, Y_test):\n",
    "        X_test_ids.extend(make_example(x_sent, vocabulary2id))\n",
    "        Y_test_ids.extend([tag2id[word] if word in tag2id.keys() else tag2id['UNK'] for word in y_sent])\n",
    "    \n",
    "    X_train_ids = np.asarray(X_train_ids)\n",
    "    X_test_ids = np.asarray(X_test_ids)\n",
    "\n",
    "    Y_train_onehot = id2onehot(Y_train_ids, len(tag2id))\n",
    "    Y_test_onehot = id2onehot(Y_test_ids, len(tag2id))\n",
    "\n",
    "    model = build_model()\n",
    "    model.fit(X_train_ids, Y_train_onehot, batch_size=128, epochs=5, validation_split=0.2)\n",
    "\n",
    "    predictions = model.predict(X_test_ids)\n",
    "\n",
    "    predictions_argmax = np.argmax(predictions, axis=-1)\n",
    "\n",
    "    y_pred_nopad = predictions_argmax[:]\n",
    "    y_true_nopad = Y_test_ids[:]\n",
    "\n",
    "    preds_all_folds.append(y_pred_nopad)\n",
    "    golds_all_folds.append(y_true_nopad)\n",
    "\n",
    "    y_pred_nopad = np.asarray(y_pred_nopad)\n",
    "    y_true_nopad = np.asarray(y_true_nopad)\n",
    "    test_accuracy = (y_pred_nopad == y_true_nopad).mean()\n",
    "    print('Fold {} test_accuracy: {}'.format(fold_num + 1, test_accuracy))\n",
    "    prec, rec, fscore, _ = precision_recall_fscore_support(y_true_nopad, y_pred_nopad, average = 'weighted')\n",
    "    print('Fold {} Precision: {} Recall: {} F1-Score: {}'.format(fold_num + 1, prec, rec, fscore))"
   ]
  },
  {
   "cell_type": "code",
   "execution_count": 14,
   "metadata": {
    "colab": {
     "base_uri": "https://localhost:8080/",
     "height": 124
    },
    "colab_type": "code",
    "id": "TiE8MC8BNeLG",
    "outputId": "cb63b32a-8530-4fcb-a475-50593b21230f"
   },
   "outputs": [
    {
     "name": "stdout",
     "output_type": "stream",
     "text": [
      "---Averaged Results over all the epochs---\n",
      "Average K-Fold Test Accuracy: 0.9175521046178995\n",
      "Average K-Fold Precision: 0.9219477576557498 Recall: 0.9175521046178995 F1-Score: 0.9188106478569993\n"
     ]
    },
    {
     "name": "stderr",
     "output_type": "stream",
     "text": [
      "/usr/local/lib/python3.6/dist-packages/sklearn/metrics/_classification.py:1272: UndefinedMetricWarning: Precision and F-score are ill-defined and being set to 0.0 in labels with no predicted samples. Use `zero_division` parameter to control this behavior.\n",
      "  _warn_prf(average, modifier, msg_start, len(result))\n"
     ]
    }
   ],
   "source": [
    "print(\"---Averaged Results over all the epochs---\")\n",
    "test_accuracy = (np.asarray(preds_all_folds[0]) == np.asarray(golds_all_folds[0])).mean()\n",
    "print('Average K-Fold Test Accuracy: {}'.format(test_accuracy))\n",
    "prec, rec, fscore, _ = precision_recall_fscore_support(preds_all_folds[0], golds_all_folds[0], average = 'weighted')\n",
    "print('Average K-Fold Precision: {} Recall: {} F1-Score: {}'.format(prec, rec, fscore))"
   ]
  },
  {
   "cell_type": "code",
   "execution_count": 15,
   "metadata": {
    "colab": {
     "base_uri": "https://localhost:8080/",
     "height": 419
    },
    "colab_type": "code",
    "id": "g0Tr0kJzNeLO",
    "outputId": "f3ce3fb5-40f6-4c5f-b3af-82aab7727c89"
   },
   "outputs": [
    {
     "name": "stderr",
     "output_type": "stream",
     "text": [
      "/usr/local/lib/python3.6/dist-packages/sklearn/metrics/_classification.py:1272: UndefinedMetricWarning: Recall and F-score are ill-defined and being set to 0.0 in labels with no true samples. Use `zero_division` parameter to control this behavior.\n",
      "  _warn_prf(average, modifier, msg_start, len(result))\n"
     ]
    },
    {
     "name": "stdout",
     "output_type": "stream",
     "text": [
      "              precision    recall  f1-score   support\n",
      "\n",
      "           .       0.98      1.00      0.99     29621\n",
      "         ADJ       0.89      0.90      0.90     36028\n",
      "         ADP       0.99      0.99      0.99      8082\n",
      "         ADV       0.82      0.74      0.78     20552\n",
      "        CONJ       0.87      0.92      0.90     63728\n",
      "         DET       0.89      0.82      0.85     10653\n",
      "        NOUN       1.00      1.00      1.00     26322\n",
      "         NUM       0.97      0.97      0.97      4859\n",
      "         PAD       0.00      0.00      0.00         0\n",
      "        PRON       0.97      0.62      0.76      4728\n",
      "         PRT       0.96      0.96      0.96     35159\n",
      "        VERB       0.80      0.89      0.84      4675\n",
      "           X       0.53      0.19      0.29       293\n",
      "\n",
      "    accuracy                           0.92    244700\n",
      "   macro avg       0.82      0.77      0.79    244700\n",
      "weighted avg       0.92      0.92      0.92    244700\n",
      "\n"
     ]
    }
   ],
   "source": [
    "id2tag = {v: k for k, v in tag2id.items()}\n",
    "print(classification_report([id2tag[i] for i in golds_all_folds[0]], [id2tag[i] for i in preds_all_folds[0]]))"
   ]
  },
  {
   "cell_type": "code",
   "execution_count": 0,
   "metadata": {
    "colab": {},
    "colab_type": "code",
    "id": "Q0QoOoQQNeLV"
   },
   "outputs": [],
   "source": [
    "def cm_analysis(y_true, y_pred, labels, ymap=None, figsize=(10,10)):\n",
    "    \"\"\"\n",
    "    Generate matrix plot of confusion matrix with pretty annotations.\n",
    "    The plot image is saved to disk.\n",
    "    args: \n",
    "      y_true:    true label of the data, with shape (nsamples,)\n",
    "      y_pred:    prediction of the data, with shape (nsamples,)\n",
    "      filename:  filename of figure file to save\n",
    "      labels:    string array, name the order of class labels in the confusion matrix.\n",
    "                 use `clf.classes_` if using scikit-learn models.\n",
    "                 with shape (nclass,).\n",
    "      ymap:      dict: any -> string, length == nclass.\n",
    "                 if not None, map the labels & ys to more understandable strings.\n",
    "                 Caution: original y_true, y_pred and labels must align.\n",
    "      figsize:   the size of the figure plotted.\n",
    "    \"\"\"\n",
    "    if ymap is not None:\n",
    "        y_pred = [ymap[yi] for yi in y_pred]\n",
    "        y_true = [ymap[yi] for yi in y_true]\n",
    "        labels = [ymap[yi] for yi in labels]\n",
    "    cm = confusion_matrix(y_true, y_pred, labels=labels)\n",
    "    cm_sum = np.sum(cm, axis=1, keepdims=True)\n",
    "    cm_perc = cm / cm_sum.astype(float) * 100\n",
    "    annot = np.empty_like(cm).astype(str)\n",
    "    nrows, ncols = cm.shape\n",
    "    for i in range(nrows):\n",
    "        for j in range(ncols):\n",
    "            c = cm[i, j]\n",
    "            p = cm_perc[i, j]\n",
    "            if i == j:\n",
    "                s = cm_sum[i]\n",
    "                annot[i, j] = '%.1f%%\\n%d/%d' % (p, c, s)\n",
    "            elif c == 0:\n",
    "                annot[i, j] = ''\n",
    "            else:\n",
    "                annot[i, j] = '%.1f%%\\n%d' % (p, c)\n",
    "    cm = pd.DataFrame(cm, index=labels, columns=labels)\n",
    "    cm.index.name = 'Actual'\n",
    "    cm.columns.name = 'Predicted'\n",
    "    fig, ax = plt.subplots(figsize=figsize)\n",
    "    sns.heatmap(cm, annot=annot, fmt='', ax=ax)\n",
    "    plt.show()"
   ]
  },
  {
   "cell_type": "code",
   "execution_count": 26,
   "metadata": {
    "colab": {
     "base_uri": "https://localhost:8080/",
     "height": 823
    },
    "colab_type": "code",
    "id": "Fj4MUo47qJi1",
    "outputId": "50ec67a3-0d20-4331-fd23-bea18f07e393"
   },
   "outputs": [
    {
     "data": {
      "image/png": "[encoded data removed]",
      "text/plain": [
       "<Figure size 1008x1008 with 2 Axes>"
      ]
     },
     "metadata": {
      "needs_background": "light",
      "tags": []
     },
     "output_type": "display_data"
    }
   ],
   "source": [
    "cm_analysis([id2tag[i] for i in golds_all_folds[0]], [id2tag[i] for i in preds_all_folds[0]], sorted(tag2id.keys(), key=lambda k: tag2id[k])[1:], ymap=None, figsize=(14, 14))"
   ]
  },
  {
   "cell_type": "code",
   "execution_count": 39,
   "metadata": {
    "colab": {
     "base_uri": "https://localhost:8080/",
     "height": 295
    },
    "colab_type": "code",
    "id": "uwouNzRqqKAH",
    "outputId": "6d3bbf5f-c489-4170-9f0d-f3c64b47ee96"
   },
   "outputs": [
    {
     "name": "stdout",
     "output_type": "stream",
     "text": [
      "Tag-wise counts and accuracies\n",
      "--\n",
      "\n",
      "Tag\tGold Tag Count\tTotal predicted correctly\tTotal predicted incorrectly\tAccuracy\n",
      "PRT\t35159\t\t33736\t\t\t\t1240\t\t\t\t0.9595267214653431\n",
      ".\t29621\t\t29507\t\t\t\t510\t\t\t\t0.9961513790891597\n",
      "CONJ\t63728\t\t58562\t\t\t\t8457\t\t\t\t0.9189367311072056\n",
      "ADJ\t36028\t\t32598\t\t\t\t4007\t\t\t\t0.9047962695681137\n",
      "ADV\t20552\t\t15172\t\t\t\t3329\t\t\t\t0.738224990268587\n",
      "ADP\t8082\t\t8030\t\t\t\t118\t\t\t\t0.9935659490225192\n",
      "VERB\t4675\t\t4149\t\t\t\t1050\t\t\t\t0.8874866310160427\n",
      "NOUN\t26322\t\t26320\t\t\t\t43\t\t\t\t0.9999240179317681\n",
      "DET\t10653\t\t8738\t\t\t\t1102\t\t\t\t0.8202384304890641\n",
      "PRON\t4728\t\t2946\t\t\t\t94\t\t\t\t0.6230964467005076\n",
      "NUM\t4859\t\t4710\t\t\t\t157\t\t\t\t0.9693352541675242\n",
      "X\t293\t\t57\t\t\t\t50\t\t\t\t0.1945392491467577\n"
     ]
    }
   ],
   "source": [
    "print(\"Tag-wise counts and accuracies\\n--\\n\")\n",
    "print(\"Tag\\tGold Tag Count\\tTotal predicted correctly\\tTotal predicted incorrectly\\tAccuracy\")\n",
    "gold_counts = Counter([id2tag[i] for i in golds_all_folds[0]])\n",
    "pred_counts_correct = Counter([id2tag[t] for i, t in enumerate(preds_all_folds[0]) if t == golds_all_folds[0][i]])\n",
    "pred_counts_incorrect = Counter([id2tag[t] for i, t in enumerate(preds_all_folds[0]) if t != golds_all_folds[0][i]])\n",
    "for tag in gold_counts.keys():\n",
    "  print(f\"{tag}\\t{gold_counts[tag]}\\t\\t{pred_counts_correct[tag]}\\t\\t\\t\\t{pred_counts_incorrect[tag]}\\t\\t\\t\\t{pred_counts_correct[tag] / gold_counts[tag]}\")"
   ]
  }
 ],
 "metadata": {
  "accelerator": "GPU",
  "colab": {
   "collapsed_sections": [],
   "name": "POS_NN.ipynb",
   "provenance": []
  },
  "kernelspec": {
   "display_name": "Python 3",
   "language": "python",
   "name": "python3"
  },
  "language_info": {
   "codemirror_mode": {
    "name": "ipython",
    "version": 3
   },
   "file_extension": ".py",
   "mimetype": "text/x-python",
   "name": "python",
   "nbconvert_exporter": "python",
   "pygments_lexer": "ipython3",
   "version": "3.7.7"
  }
 },
 "nbformat": 4,
 "nbformat_minor": 1
}
