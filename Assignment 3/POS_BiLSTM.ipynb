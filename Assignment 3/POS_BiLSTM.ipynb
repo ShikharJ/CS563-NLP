{
  "nbformat": 4,
  "nbformat_minor": 0,
  "metadata": {
    "kernelspec": {
      "display_name": "Python 3",
      "language": "python",
      "name": "python3"
    },
    "language_info": {
      "codemirror_mode": {
        "name": "ipython",
        "version": 3
      },
      "file_extension": ".py",
      "mimetype": "text/x-python",
      "name": "python",
      "nbconvert_exporter": "python",
      "pygments_lexer": "ipython3",
      "version": "3.7.7"
    },
    "colab": {
      "name": "Primitive BiLSTM.ipynb",
      "provenance": [],
      "collapsed_sections": []
    },
    "accelerator": "GPU"
  },
  "cells": [
    {
      "cell_type": "code",
      "metadata": {
        "id": "DTAEuTboNeJy",
        "colab_type": "code",
        "colab": {
          "base_uri": "https://localhost:8080/",
          "height": 52
        },
        "outputId": "4ba691d9-3587-4ece-e696-2569aaf57368"
      },
      "source": [
        "# Import the required libraries.\n",
        "import re\n",
        "import math\n",
        "import random\n",
        "import collections\n",
        "import operator\n",
        "import numpy as np\n",
        "import pandas as pd\n",
        "from sklearn.model_selection import KFold\n",
        "from sklearn.metrics import precision_recall_fscore_support, f1_score\n",
        "from sklearn.metrics import confusion_matrix, classification_report\n",
        "from collections import defaultdict, Counter\n",
        "import matplotlib\n",
        "from matplotlib import pyplot as plt\n",
        "import seaborn as sns\n",
        "\n",
        "random.seed(11)\n",
        "np.random.seed(11)"
      ],
      "execution_count": 16,
      "outputs": [
        {
          "output_type": "stream",
          "text": [
            "/usr/local/lib/python3.6/dist-packages/statsmodels/tools/_testing.py:19: FutureWarning: pandas.util.testing is deprecated. Use the functions in the public API at pandas.testing instead.\n",
            "  import pandas.util.testing as tm\n"
          ],
          "name": "stderr"
        }
      ]
    },
    {
      "cell_type": "code",
      "metadata": {
        "id": "kq2bZOCyNeKD",
        "colab_type": "code",
        "outputId": "28b49559-8916-465e-c512-75852a7e527c",
        "colab": {
          "base_uri": "https://localhost:8080/",
          "height": 34
        }
      },
      "source": [
        "from keras.models import Sequential\n",
        "from keras.layers import Dense, LSTM, Conv1D, InputLayer, Bidirectional, TimeDistributed, Embedding, Activation, Masking\n",
        "from keras.optimizers import Adam, SGD\n",
        "from keras.preprocessing.sequence import pad_sequences"
      ],
      "execution_count": 2,
      "outputs": [
        {
          "output_type": "stream",
          "text": [
            "Using TensorFlow backend.\n"
          ],
          "name": "stderr"
        }
      ]
    },
    {
      "cell_type": "code",
      "metadata": {
        "id": "nF8Th5RcOAka",
        "colab_type": "code",
        "outputId": "1b29e28f-61ba-45cc-cd0c-1759daea85db",
        "colab": {
          "resources": {
            "http://localhost:8080/nbextensions/google.colab/files.js": {
              "data": "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",
              "ok": true,
              "headers": [
                [
                  "content-type",
                  "application/javascript"
                ]
              ],
              "status": 200,
              "status_text": "OK"
            }
          },
          "base_uri": "https://localhost:8080/",
          "height": 82
        }
      },
      "source": [
        "from google.colab import files\n",
        "uploaded = files.upload()"
      ],
      "execution_count": 3,
      "outputs": [
        {
          "output_type": "display_data",
          "data": {
            "text/html": [
              "\n",
              "     <input type=\"file\" id=\"files-06c8f377-9e8b-4192-bcc9-7f09a6d27cc7\" name=\"files[]\" multiple disabled />\n",
              "     <output id=\"result-06c8f377-9e8b-4192-bcc9-7f09a6d27cc7\">\n",
              "      Upload widget is only available when the cell has been executed in the\n",
              "      current browser session. Please rerun this cell to enable.\n",
              "      </output>\n",
              "      <script src=\"/nbextensions/google.colab/files.js\"></script> "
            ],
            "text/plain": [
              "<IPython.core.display.HTML object>"
            ]
          },
          "metadata": {
            "tags": []
          }
        },
        {
          "output_type": "stream",
          "text": [
            "Saving Brown_train.txt to Brown_train.txt\n"
          ],
          "name": "stdout"
        }
      ]
    },
    {
      "cell_type": "code",
      "metadata": {
        "id": "YkPYCVj_NeKV",
        "colab_type": "code",
        "colab": {}
      },
      "source": [
        "def parse_sentence(sentence):\n",
        "    '''\n",
        "    Function for parsing the words and tags from the\n",
        "    sentences of the input corpus.\n",
        "    '''\n",
        "    word_tag_pairs = sentence.split(\" \")\n",
        "    words = []\n",
        "    tags = []\n",
        "\n",
        "    for i, word_tag in enumerate(word_tag_pairs):\n",
        "        word, tag = word_tag.strip().rsplit('/', 1)\n",
        "        words.append(word)\n",
        "        tags.append(tag)\n",
        "        \n",
        "    return words, tags"
      ],
      "execution_count": 0,
      "outputs": []
    },
    {
      "cell_type": "code",
      "metadata": {
        "id": "kXUd2ekoNeKf",
        "colab_type": "code",
        "colab": {}
      },
      "source": [
        "# Parse the sentences into a list.\n",
        "parsed_sentences = []\n",
        "\n",
        "with open('./Brown_train.txt', 'r') as file:\n",
        "    sentences = file.readlines()\n",
        "\n",
        "    for sentence in sentences:\n",
        "        sentence = sentence.strip()\n",
        "        parsed_sentences.append(parse_sentence(sentence))"
      ],
      "execution_count": 0,
      "outputs": []
    },
    {
      "cell_type": "code",
      "metadata": {
        "id": "uwyuAfjGNeKq",
        "colab_type": "code",
        "colab": {}
      },
      "source": [
        "def get_vocab(X_train, Y_train):\n",
        "    '''\n",
        "    Function for building the vocabulary from the training set of\n",
        "    words and tags.\n",
        "    '''\n",
        "    vocabulary2id = dict()    \n",
        "    tag2id = dict()\n",
        "    vocabulary2id['PAD'] = 0\n",
        "    vocabulary2id['UNK'] = 1\n",
        "\n",
        "    for sent in X_train:\n",
        "        for word in sent:\n",
        "            if word not in vocabulary2id.keys():\n",
        "                vocabulary2id[word] = len(vocabulary2id)\n",
        "    \n",
        "    tag2id['PAD'] = 0\n",
        "    for sent in Y_train:\n",
        "        for tag in sent:\n",
        "            if tag not in tag2id.keys():\n",
        "                tag2id[tag] = len(tag2id)\n",
        "    \n",
        "    return vocabulary2id, tag2id\n",
        "\n",
        "def get_word_tag_counts(X_train, Y_train, vocabulary2id, tag2id):\n",
        "    '''\n",
        "    Function for calculating the counts pertaining to the\n",
        "    individual word tags.\n",
        "    '''\n",
        "    wordcount = defaultdict(int)\n",
        "    tagcount = defaultdict(int)\n",
        "    tagpaircount = defaultdict(int)\n",
        "    tagtriplecount = defaultdict(int)\n",
        "    \n",
        "    for sent in X_train:\n",
        "        for word in sent:\n",
        "            wordcount[word] += 1\n",
        "    \n",
        "    for sent in Y_train:\n",
        "        for tag in sent:\n",
        "            tagcount[tag] += 1\n",
        "    \n",
        "    for sent in Y_train:\n",
        "        for i in range(len(sent) - 1):\n",
        "            tagpaircount[sent[i], sent[i + 1]] += 1\n",
        "\n",
        "    for sent in Y_train:\n",
        "        for i in range(len(sent) - 2):\n",
        "            tagtriplecount[sent[i], sent[i + 1], sent[i + 2]] += 1\n",
        "    \n",
        "    return wordcount, tagcount, tagpaircount, tagtriplecount"
      ],
      "execution_count": 0,
      "outputs": []
    },
    {
      "cell_type": "code",
      "metadata": {
        "id": "FtYOouggNeK0",
        "colab_type": "code",
        "outputId": "c59ea934-957e-40a3-dfdf-04b2da1f85cf",
        "colab": {
          "base_uri": "https://localhost:8080/",
          "height": 1000
        }
      },
      "source": [
        "parsed_sentences[:5]"
      ],
      "execution_count": 7,
      "outputs": [
        {
          "output_type": "execute_result",
          "data": {
            "text/plain": [
              "[(['At',\n",
              "   'that',\n",
              "   'time',\n",
              "   'highway',\n",
              "   'engineers',\n",
              "   'traveled',\n",
              "   'rough',\n",
              "   'and',\n",
              "   'dirty',\n",
              "   'roads',\n",
              "   'to',\n",
              "   'accomplish',\n",
              "   'their',\n",
              "   'duties',\n",
              "   '.'],\n",
              "  ['ADP',\n",
              "   'DET',\n",
              "   'NOUN',\n",
              "   'NOUN',\n",
              "   'NOUN',\n",
              "   'VERB',\n",
              "   'ADJ',\n",
              "   'CONJ',\n",
              "   'ADJ',\n",
              "   'NOUN',\n",
              "   'PRT',\n",
              "   'VERB',\n",
              "   'DET',\n",
              "   'NOUN',\n",
              "   '.']),\n",
              " (['Using',\n",
              "   'privately-owned',\n",
              "   'vehicles',\n",
              "   'was',\n",
              "   'a',\n",
              "   'personal',\n",
              "   'hardship',\n",
              "   'for',\n",
              "   'such',\n",
              "   'employees',\n",
              "   ',',\n",
              "   'and',\n",
              "   'the',\n",
              "   'matter',\n",
              "   'of',\n",
              "   'providing',\n",
              "   'state',\n",
              "   'transportation',\n",
              "   'was',\n",
              "   'felt',\n",
              "   'perfectly',\n",
              "   'justifiable',\n",
              "   '.'],\n",
              "  ['VERB',\n",
              "   'ADJ',\n",
              "   'NOUN',\n",
              "   'VERB',\n",
              "   'DET',\n",
              "   'ADJ',\n",
              "   'NOUN',\n",
              "   'ADP',\n",
              "   'ADJ',\n",
              "   'NOUN',\n",
              "   '.',\n",
              "   'CONJ',\n",
              "   'DET',\n",
              "   'NOUN',\n",
              "   'ADP',\n",
              "   'VERB',\n",
              "   'NOUN',\n",
              "   'NOUN',\n",
              "   'VERB',\n",
              "   'VERB',\n",
              "   'ADV',\n",
              "   'ADJ',\n",
              "   '.']),\n",
              " (['Once',\n",
              "   'the',\n",
              "   'principle',\n",
              "   'was',\n",
              "   'established',\n",
              "   ',',\n",
              "   'the',\n",
              "   'increase',\n",
              "   'in',\n",
              "   'state-owned',\n",
              "   'vehicles',\n",
              "   'came',\n",
              "   'rapidly',\n",
              "   '.'],\n",
              "  ['ADP',\n",
              "   'DET',\n",
              "   'NOUN',\n",
              "   'VERB',\n",
              "   'VERB',\n",
              "   '.',\n",
              "   'DET',\n",
              "   'NOUN',\n",
              "   'ADP',\n",
              "   'ADJ',\n",
              "   'NOUN',\n",
              "   'VERB',\n",
              "   'ADV',\n",
              "   '.']),\n",
              " (['And',\n",
              "   'reasons',\n",
              "   'other',\n",
              "   'than',\n",
              "   'employee',\n",
              "   'need',\n",
              "   'contributed',\n",
              "   'to',\n",
              "   'the',\n",
              "   'growth',\n",
              "   '.'],\n",
              "  ['CONJ',\n",
              "   'NOUN',\n",
              "   'ADJ',\n",
              "   'ADP',\n",
              "   'NOUN',\n",
              "   'NOUN',\n",
              "   'VERB',\n",
              "   'ADP',\n",
              "   'DET',\n",
              "   'NOUN',\n",
              "   '.']),\n",
              " (['Table',\n",
              "   '1',\n",
              "   'immediately',\n",
              "   'below',\n",
              "   'shows',\n",
              "   'the',\n",
              "   'rate',\n",
              "   'of',\n",
              "   'growth',\n",
              "   'of',\n",
              "   'vehicles',\n",
              "   'and',\n",
              "   'employees',\n",
              "   '.'],\n",
              "  ['NOUN',\n",
              "   'NUM',\n",
              "   'ADV',\n",
              "   'ADV',\n",
              "   'VERB',\n",
              "   'DET',\n",
              "   'NOUN',\n",
              "   'ADP',\n",
              "   'NOUN',\n",
              "   'ADP',\n",
              "   'NOUN',\n",
              "   'CONJ',\n",
              "   'NOUN',\n",
              "   '.'])]"
            ]
          },
          "metadata": {
            "tags": []
          },
          "execution_count": 7
        }
      ]
    },
    {
      "cell_type": "code",
      "metadata": {
        "id": "q7JLr5AedooV",
        "colab_type": "code",
        "colab": {}
      },
      "source": [
        "def build_model():\n",
        "    model = Sequential()\n",
        "    # model.add(InputLayer(input_shape=(padlen, )))\n",
        "    model.add(Masking(mask_value=float(vocabulary2id['UNK']),input_shape=(padlen,)))\n",
        "    model.add(Embedding(len(vocabulary2id), 100))\n",
        "    model.add(Bidirectional(LSTM(int((128+256)/2), return_sequences=True)))\n",
        "    model.add(TimeDistributed(Dense(len(tag2id))))\n",
        "    model.add(Activation('softmax'))\n",
        "    model.compile(loss='categorical_crossentropy',\n",
        "                  optimizer=Adam(0.001),\n",
        "                  metrics=['accuracy'])\n",
        "    model.summary()\n",
        "    return model"
      ],
      "execution_count": 0,
      "outputs": []
    },
    {
      "cell_type": "code",
      "metadata": {
        "id": "LeP15prFd7m_",
        "colab_type": "code",
        "colab": {}
      },
      "source": [
        "def id2onehot(Y, numtags):\n",
        "    out = []\n",
        "    for s in Y:\n",
        "        categories = []\n",
        "        for item in s:\n",
        "            categories.append(np.zeros(numtags))\n",
        "            categories[-1][item] = 1.0\n",
        "        out.append(categories)\n",
        "    return np.array(out)"
      ],
      "execution_count": 0,
      "outputs": []
    },
    {
      "cell_type": "code",
      "metadata": {
        "id": "OMo1HI3CNeK_",
        "colab_type": "code",
        "outputId": "0cff67b8-1295-4c38-c2fd-d6f8ce0844a0",
        "colab": {
          "base_uri": "https://localhost:8080/",
          "height": 1000
        }
      },
      "source": [
        "# Build the test and training sets of sentences.\n",
        "kf = KFold(n_splits = 3, shuffle = False)\n",
        "parsed_sentences = np.asarray(parsed_sentences)\n",
        "scores = []\n",
        "scores1 = []\n",
        "y_pred_idx = []\n",
        "y_pred_idx1 = []\n",
        "y_test_idx = []\n",
        "y_test_idx1 = []\n",
        "\n",
        "preds_all_folds = []\n",
        "golds_all_folds = []\n",
        "\n",
        "for fold_num, (train_index, test_index) in enumerate(kf.split(parsed_sentences)):\n",
        "    train_data = parsed_sentences[train_index]\n",
        "    test_data = parsed_sentences[test_index]\n",
        "    X_train = [a[0] for a in train_data]\n",
        "    Y_train = [a[1] for a in train_data]\n",
        "    X_test = [a[0] for a in test_data]\n",
        "    Y_test = [a[1] for a in test_data]\n",
        "    \n",
        "    # Build the vocabulary and word counts.\n",
        "    vocabulary2id, tag2id = get_vocab(X_train, Y_train)\n",
        "    \n",
        "    padlen = max(len(i) for i in X_train)\n",
        "    def pad(sentence, padid=vocabulary2id['PAD']):\n",
        "        out = sentence[:padlen]\n",
        "        padding = [padid for _ in range(padlen - len(out))]\n",
        "        return out + padding\n",
        "    \n",
        "    X_train_ids = np.asarray([pad([vocabulary2id[word] if word in vocabulary2id.keys() else vocabulary2id['UNK'] for word in sent]) for sent in X_train])\n",
        "    X_test_ids = np.array([pad([vocabulary2id[word] if word in vocabulary2id.keys() else vocabulary2id['UNK'] for word in sent]) for sent in X_test])\n",
        "\n",
        "    Y_train_ids = np.asarray([pad([tag2id[word] if word in tag2id.keys() else tag2id['UNK'] for word in sent], tag2id['PAD']) for sent in Y_train])\n",
        "    Y_test_ids = np.asarray([pad([tag2id[word] if word in tag2id.keys() else tag2id['UNK'] for word in sent], tag2id['PAD']) for sent in Y_test])\n",
        "\n",
        "    Y_train_onehot = id2onehot(Y_train_ids, len(tag2id))\n",
        "    Y_test_onehot = id2onehot(Y_test_ids, len(tag2id))\n",
        "\n",
        "    model = build_model()\n",
        "    model.fit(X_train_ids, Y_train_onehot, batch_size=128, epochs=5, validation_split=0.2)\n",
        "\n",
        "    predictions = model.predict(X_test_ids)\n",
        "\n",
        "    # test_accuracy = np.sum((Y_test_ids == np.argmax(predictions, axis=-1)) * (Y_test_ids != 0)) / np.sum((Y_test_ids != 0))\n",
        "    # print('Fold {} test_accuracy: {}'.format(fold_num + 1, test_accuracy))\n",
        "\n",
        "    predictions_argmax = np.argmax(predictions, axis=-1)\n",
        "\n",
        "    y_pred_nopad = []\n",
        "    y_true_nopad = []\n",
        "\n",
        "    for i in range(len(Y_test_ids)):\n",
        "        for j in range(len(Y_test_ids[i])):\n",
        "            if Y_test_ids[i][j] != 0 and predictions_argmax[i][j] != 0:\n",
        "                y_true_nopad.append(Y_test_ids[i][j])\n",
        "                if predictions_argmax[i][j] == 0:\n",
        "                    y_pred_nopad.append(1)\n",
        "                else:\n",
        "                    y_pred_nopad.append(predictions_argmax[i][j])\n",
        "\n",
        "    preds_all_folds.append(y_pred_nopad)\n",
        "    golds_all_folds.append(y_true_nopad)\n",
        "\n",
        "    y_pred_nopad = np.asarray(y_pred_nopad)\n",
        "    y_true_nopad = np.asarray(y_true_nopad)\n",
        "    test_accuracy = (y_pred_nopad == y_true_nopad).mean()\n",
        "    print('Fold {} test_accuracy: {}'.format(fold_num + 1, test_accuracy))\n",
        "    prec, rec, fscore, _ = precision_recall_fscore_support(y_true_nopad, y_pred_nopad, average = 'weighted')\n",
        "    print('Fold {} Precision: {} Recall: {} F1-Score: {}'.format(fold_num + 1, prec, rec, fscore))"
      ],
      "execution_count": 10,
      "outputs": [
        {
          "output_type": "stream",
          "text": [
            "Model: \"sequential_1\"\n",
            "_________________________________________________________________\n",
            "Layer (type)                 Output Shape              Param #   \n",
            "=================================================================\n",
            "masking_1 (Masking)          (None, 172)               0         \n",
            "_________________________________________________________________\n",
            "embedding_1 (Embedding)      (None, 172, 100)          2211500   \n",
            "_________________________________________________________________\n",
            "bidirectional_1 (Bidirection (None, 172, 384)          450048    \n",
            "_________________________________________________________________\n",
            "time_distributed_1 (TimeDist (None, 172, 13)           5005      \n",
            "_________________________________________________________________\n",
            "activation_1 (Activation)    (None, 172, 13)           0         \n",
            "=================================================================\n",
            "Total params: 2,666,553\n",
            "Trainable params: 2,666,553\n",
            "Non-trainable params: 0\n",
            "_________________________________________________________________\n"
          ],
          "name": "stdout"
        },
        {
          "output_type": "stream",
          "text": [
            "/usr/local/lib/python3.6/dist-packages/tensorflow/python/framework/indexed_slices.py:434: UserWarning: Converting sparse IndexedSlices to a dense Tensor of unknown shape. This may consume a large amount of memory.\n",
            "  \"Converting sparse IndexedSlices to a dense Tensor of unknown shape. \"\n"
          ],
          "name": "stderr"
        },
        {
          "output_type": "stream",
          "text": [
            "Train on 14661 samples, validate on 3666 samples\n",
            "Epoch 1/5\n",
            "14661/14661 [==============================] - 66s 5ms/step - loss: 0.3480 - accuracy: 0.9078 - val_loss: 0.2182 - val_accuracy: 0.9200\n",
            "Epoch 2/5\n",
            "14661/14661 [==============================] - 64s 4ms/step - loss: 0.1871 - accuracy: 0.9374 - val_loss: 0.1649 - val_accuracy: 0.9544\n",
            "Epoch 3/5\n",
            "14661/14661 [==============================] - 64s 4ms/step - loss: 0.1083 - accuracy: 0.9697 - val_loss: 0.0757 - val_accuracy: 0.9770\n",
            "Epoch 4/5\n",
            "14661/14661 [==============================] - 64s 4ms/step - loss: 0.0417 - accuracy: 0.9898 - val_loss: 0.0307 - val_accuracy: 0.9927\n",
            "Epoch 5/5\n",
            "14661/14661 [==============================] - 64s 4ms/step - loss: 0.0162 - accuracy: 0.9963 - val_loss: 0.0204 - val_accuracy: 0.9943\n",
            "Fold 1 test_accuracy: 0.9010598534402203\n",
            "Fold 1 Precision: 0.9030468569039867 Recall: 0.9010598534402203 F1-Score: 0.8959284425488834\n",
            "Model: \"sequential_2\"\n",
            "_________________________________________________________________\n",
            "Layer (type)                 Output Shape              Param #   \n",
            "=================================================================\n",
            "masking_2 (Masking)          (None, 386)               0         \n",
            "_________________________________________________________________\n",
            "embedding_2 (Embedding)      (None, 386, 100)          2850100   \n",
            "_________________________________________________________________\n",
            "bidirectional_2 (Bidirection (None, 386, 384)          450048    \n",
            "_________________________________________________________________\n",
            "time_distributed_2 (TimeDist (None, 386, 13)           5005      \n",
            "_________________________________________________________________\n",
            "activation_2 (Activation)    (None, 386, 13)           0         \n",
            "=================================================================\n",
            "Total params: 3,305,153\n",
            "Trainable params: 3,305,153\n",
            "Non-trainable params: 0\n",
            "_________________________________________________________________\n",
            "Train on 14661 samples, validate on 3666 samples\n",
            "Epoch 1/5\n",
            "14661/14661 [==============================] - 143s 10ms/step - loss: 0.2795 - accuracy: 0.9424 - val_loss: 0.1023 - val_accuracy: 0.9643\n",
            "Epoch 2/5\n",
            "14661/14661 [==============================] - 146s 10ms/step - loss: 0.1234 - accuracy: 0.9567 - val_loss: 0.0853 - val_accuracy: 0.9708\n",
            "Epoch 3/5\n",
            "14661/14661 [==============================] - 145s 10ms/step - loss: 0.0827 - accuracy: 0.9779 - val_loss: 0.0462 - val_accuracy: 0.9865\n",
            "Epoch 4/5\n",
            "14661/14661 [==============================] - 143s 10ms/step - loss: 0.0399 - accuracy: 0.9888 - val_loss: 0.0238 - val_accuracy: 0.9936\n",
            "Epoch 5/5\n",
            "14661/14661 [==============================] - 147s 10ms/step - loss: 0.0189 - accuracy: 0.9957 - val_loss: 0.0140 - val_accuracy: 0.9966\n",
            "Fold 2 test_accuracy: 0.9260635703539853\n",
            "Fold 2 Precision: 0.9271398145592178 Recall: 0.9260635703539853 F1-Score: 0.9247742034060448\n"
          ],
          "name": "stdout"
        },
        {
          "output_type": "stream",
          "text": [
            "/usr/local/lib/python3.6/dist-packages/sklearn/metrics/_classification.py:1272: UndefinedMetricWarning: Precision and F-score are ill-defined and being set to 0.0 in labels with no predicted samples. Use `zero_division` parameter to control this behavior.\n",
            "  _warn_prf(average, modifier, msg_start, len(result))\n"
          ],
          "name": "stderr"
        },
        {
          "output_type": "stream",
          "text": [
            "Model: \"sequential_3\"\n",
            "_________________________________________________________________\n",
            "Layer (type)                 Output Shape              Param #   \n",
            "=================================================================\n",
            "masking_3 (Masking)          (None, 386)               0         \n",
            "_________________________________________________________________\n",
            "embedding_3 (Embedding)      (None, 386, 100)          2745900   \n",
            "_________________________________________________________________\n",
            "bidirectional_3 (Bidirection (None, 386, 384)          450048    \n",
            "_________________________________________________________________\n",
            "time_distributed_3 (TimeDist (None, 386, 13)           5005      \n",
            "_________________________________________________________________\n",
            "activation_3 (Activation)    (None, 386, 13)           0         \n",
            "=================================================================\n",
            "Total params: 3,200,953\n",
            "Trainable params: 3,200,953\n",
            "Non-trainable params: 0\n",
            "_________________________________________________________________\n",
            "Train on 14662 samples, validate on 3666 samples\n",
            "Epoch 1/5\n",
            "14662/14662 [==============================] - 143s 10ms/step - loss: 0.2624 - accuracy: 0.9421 - val_loss: 0.0914 - val_accuracy: 0.9681\n",
            "Epoch 2/5\n",
            "14662/14662 [==============================] - 143s 10ms/step - loss: 0.1237 - accuracy: 0.9567 - val_loss: 0.0778 - val_accuracy: 0.9730\n",
            "Epoch 3/5\n",
            "14662/14662 [==============================] - 143s 10ms/step - loss: 0.0853 - accuracy: 0.9760 - val_loss: 0.0401 - val_accuracy: 0.9875\n",
            "Epoch 4/5\n",
            "14662/14662 [==============================] - 145s 10ms/step - loss: 0.0361 - accuracy: 0.9904 - val_loss: 0.0186 - val_accuracy: 0.9953\n",
            "Epoch 5/5\n",
            "14662/14662 [==============================] - 144s 10ms/step - loss: 0.0158 - accuracy: 0.9965 - val_loss: 0.0105 - val_accuracy: 0.9972\n",
            "Fold 3 test_accuracy: 0.9274794429144289\n",
            "Fold 3 Precision: 0.9270271787931963 Recall: 0.9274794429144289 F1-Score: 0.9254782905931985\n"
          ],
          "name": "stdout"
        }
      ]
    },
    {
      "cell_type": "code",
      "metadata": {
        "id": "TiE8MC8BNeLG",
        "colab_type": "code",
        "outputId": "ab7caab2-729e-492e-94b7-b831acab4ffe",
        "colab": {
          "base_uri": "https://localhost:8080/",
          "height": 69
        }
      },
      "source": [
        "print(\"---Averaged Results over all the epochs---\")\n",
        "test_accuracy = (np.asarray(preds_all_folds[0]) == np.asarray(golds_all_folds[0])).mean()\n",
        "print('Average K-Fold Test Accuracy: {}'.format(test_accuracy))\n",
        "prec, rec, fscore, _ = precision_recall_fscore_support(preds_all_folds[0], golds_all_folds[0], average = 'weighted')\n",
        "print('Average K-Fold Precision: {} Recall: {} F1-Score: {}'.format(prec, rec, fscore))"
      ],
      "execution_count": 11,
      "outputs": [
        {
          "output_type": "stream",
          "text": [
            "---Averaged Results over all the epochs---\n",
            "Average K-Fold Test Accuracy: 0.9010598534402203\n",
            "Average K-Fold Precision: 0.9175752724543983 Recall: 0.9010598534402203 F1-Score: 0.9061912643315573\n"
          ],
          "name": "stdout"
        }
      ]
    },
    {
      "cell_type": "code",
      "metadata": {
        "id": "g0Tr0kJzNeLO",
        "colab_type": "code",
        "outputId": "bd2b3fa6-0b2a-4e72-f40e-fb3c7da6af13",
        "colab": {
          "base_uri": "https://localhost:8080/",
          "height": 347
        }
      },
      "source": [
        "id2tag = {v: k for k, v in tag2id.items()}\n",
        "print(classification_report([id2tag[i] for i in golds_all_folds[0]], [id2tag[i] for i in preds_all_folds[0]]))"
      ],
      "execution_count": 12,
      "outputs": [
        {
          "output_type": "stream",
          "text": [
            "              precision    recall  f1-score   support\n",
            "\n",
            "           .       0.98      0.99      0.99     29546\n",
            "         ADJ       0.85      0.90      0.88     35928\n",
            "         ADP       0.99      0.98      0.99      8037\n",
            "         ADV       0.87      0.65      0.74     20489\n",
            "        CONJ       0.84      0.93      0.88     63542\n",
            "         DET       0.83      0.78      0.81     10637\n",
            "        NOUN       1.00      1.00      1.00     26230\n",
            "         NUM       0.98      0.97      0.98      4858\n",
            "        PRON       0.96      0.26      0.42      4723\n",
            "         PRT       0.97      0.95      0.96     35048\n",
            "        VERB       0.77      0.91      0.83      4666\n",
            "           X       0.00      0.00      0.00       292\n",
            "\n",
            "    accuracy                           0.90    243996\n",
            "   macro avg       0.84      0.78      0.79    243996\n",
            "weighted avg       0.90      0.90      0.90    243996\n",
            "\n"
          ],
          "name": "stdout"
        }
      ]
    },
    {
      "cell_type": "code",
      "metadata": {
        "id": "Q0QoOoQQNeLV",
        "colab_type": "code",
        "colab": {}
      },
      "source": [
        "def cm_analysis(y_true, y_pred, labels, ymap=None, figsize=(10,10)):\n",
        "    \"\"\"\n",
        "    Generate matrix plot of confusion matrix with pretty annotations.\n",
        "    The plot image is saved to disk.\n",
        "    args: \n",
        "      y_true:    true label of the data, with shape (nsamples,)\n",
        "      y_pred:    prediction of the data, with shape (nsamples,)\n",
        "      filename:  filename of figure file to save\n",
        "      labels:    string array, name the order of class labels in the confusion matrix.\n",
        "                 use `clf.classes_` if using scikit-learn models.\n",
        "                 with shape (nclass,).\n",
        "      ymap:      dict: any -> string, length == nclass.\n",
        "                 if not None, map the labels & ys to more understandable strings.\n",
        "                 Caution: original y_true, y_pred and labels must align.\n",
        "      figsize:   the size of the figure plotted.\n",
        "    \"\"\"\n",
        "    if ymap is not None:\n",
        "        y_pred = [ymap[yi] for yi in y_pred]\n",
        "        y_true = [ymap[yi] for yi in y_true]\n",
        "        labels = [ymap[yi] for yi in labels]\n",
        "    cm = confusion_matrix(y_true, y_pred, labels=labels)\n",
        "    cm_sum = np.sum(cm, axis=1, keepdims=True)\n",
        "    cm_perc = cm / cm_sum.astype(float) * 100\n",
        "    annot = np.empty_like(cm).astype(str)\n",
        "    nrows, ncols = cm.shape\n",
        "    for i in range(nrows):\n",
        "        for j in range(ncols):\n",
        "            c = cm[i, j]\n",
        "            p = cm_perc[i, j]\n",
        "            if i == j:\n",
        "                s = cm_sum[i]\n",
        "                annot[i, j] = '%.1f%%\\n%d/%d' % (p, c, s)\n",
        "            elif c == 0:\n",
        "                annot[i, j] = ''\n",
        "            else:\n",
        "                annot[i, j] = '%.1f%%\\n%d' % (p, c)\n",
        "    cm = pd.DataFrame(cm, index=labels, columns=labels)\n",
        "    cm.index.name = 'Actual'\n",
        "    cm.columns.name = 'Predicted'\n",
        "    fig, ax = plt.subplots(figsize=figsize)\n",
        "    sns.heatmap(cm, annot=annot, fmt='', ax=ax)\n",
        "    #plt.savefig(filename)\n",
        "    plt.show()"
      ],
      "execution_count": 0,
      "outputs": []
    },
    {
      "cell_type": "code",
      "metadata": {
        "id": "GH298J9OqKZL",
        "colab_type": "code",
        "colab": {
          "base_uri": "https://localhost:8080/",
          "height": 823
        },
        "outputId": "9abe6350-ce3c-45cb-971b-a826d419d542"
      },
      "source": [
        "cm_analysis([id2tag[i] for i in golds_all_folds[0]], [id2tag[i] for i in preds_all_folds[0]], sorted(tag2id.keys(), key=lambda k: tag2id[k])[1:], ymap=None, figsize=(14, 14))"
      ],
      "execution_count": 17,
      "outputs": [
        {
          "output_type": "display_data",
          "data": {
            "image/png": "[encoded data removed]",
            "text/plain": [
              "<Figure size 1008x1008 with 2 Axes>"
            ]
          },
          "metadata": {
            "tags": [],
            "needs_background": "light"
          }
        }
      ]
    },
    {
      "cell_type": "code",
      "metadata": {
        "id": "E78q_bDiqKxx",
        "colab_type": "code",
        "colab": {
          "base_uri": "https://localhost:8080/",
          "height": 295
        },
        "outputId": "72c4efbc-49a6-4d93-e1df-8e9362bb3354"
      },
      "source": [
        "print(\"Tag-wise counts and accuracies\\n--\\n\")\n",
        "print(\"Tag\\tGold Tag Count\\tTotal predicted correctly\\tTotal predicted incorrectly\\tAccuracy\")\n",
        "gold_counts = Counter([id2tag[i] for i in golds_all_folds[0]])\n",
        "pred_counts_correct = Counter([id2tag[t] for i, t in enumerate(preds_all_folds[0]) if t == golds_all_folds[0][i]])\n",
        "pred_counts_incorrect = Counter([id2tag[t] for i, t in enumerate(preds_all_folds[0]) if t != golds_all_folds[0][i]])\n",
        "for tag in gold_counts.keys():\n",
        "  print(f\"{tag}\\t{gold_counts[tag]}\\t\\t{pred_counts_correct[tag]}\\t\\t\\t\\t{pred_counts_incorrect[tag]}\\t\\t\\t\\t{pred_counts_correct[tag] / gold_counts[tag]}\")"
      ],
      "execution_count": 18,
      "outputs": [
        {
          "output_type": "stream",
          "text": [
            "Tag-wise counts and accuracies\n",
            "--\n",
            "\n",
            "Tag\tGold Tag Count\tTotal predicted correctly\tTotal predicted incorrectly\tAccuracy\n",
            "PRT\t35048\t\t33129\t\t\t\t1100\t\t\t\t0.9452465190595755\n",
            ".\t29546\t\t29347\t\t\t\t520\t\t\t\t0.993264739727882\n",
            "CONJ\t63542\t\t59261\t\t\t\t11697\t\t\t\t0.9326272386767807\n",
            "ADJ\t35928\t\t32321\t\t\t\t5486\t\t\t\t0.8996047650857271\n",
            "ADV\t20489\t\t13247\t\t\t\t2030\t\t\t\t0.646542046952023\n",
            "ADP\t8037\t\t7914\t\t\t\t54\t\t\t\t0.9846957820082121\n",
            "VERB\t4666\t\t4249\t\t\t\t1287\t\t\t\t0.910630090012859\n",
            "NOUN\t26230\t\t26107\t\t\t\t100\t\t\t\t0.9953107129241326\n",
            "DET\t10637\t\t8300\t\t\t\t1655\t\t\t\t0.7802951960139137\n",
            "PRON\t4723\t\t1251\t\t\t\t53\t\t\t\t0.2648740207495236\n",
            "NUM\t4858\t\t4729\t\t\t\t113\t\t\t\t0.9734458624948539\n",
            "X\t292\t\t0\t\t\t\t46\t\t\t\t0.0\n"
          ],
          "name": "stdout"
        }
      ]
    },
    {
      "cell_type": "code",
      "metadata": {
        "id": "stE8UgBYziZL",
        "colab_type": "code",
        "colab": {}
      },
      "source": [
        ""
      ],
      "execution_count": 0,
      "outputs": []
    }
  ]
}